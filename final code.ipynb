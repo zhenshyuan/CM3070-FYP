{
 "cells": [
  {
   "cell_type": "code",
   "execution_count": 1,
   "id": "b2032f09",
   "metadata": {},
   "outputs": [],
   "source": [
    "import numpy as np\n",
    "import pandas as pd\n",
    "from matplotlib import pyplot as plt\n",
    "import nltk\n",
    "import re \n",
    "import seaborn as sns\n",
    "\n",
    "from nltk.tokenize import word_tokenize\n",
    "from nltk.corpus import stopwords\n",
    "from nltk.stem import WordNetLemmatizer\n",
    "\n",
    "from keras.preprocessing.text import Tokenizer\n",
    "from keras.utils import np_utils\n",
    "from keras.models import Sequential\n",
    "from keras.layers import Dense, Dropout, Embedding, LSTM,GRU,Bidirectional,SimpleRNN\n",
    "from keras import regularizers\n",
    "from keras.callbacks import EarlyStopping, ModelCheckpoint\n",
    "from tensorflow.keras.preprocessing.sequence import pad_sequences\n",
    "from tensorflow.keras.optimizers import Adam,RMSprop, SGD\n",
    "\n",
    "from sklearn.naive_bayes import MultinomialNB\n",
    "from sklearn.preprocessing import LabelEncoder\n",
    "from sklearn.model_selection import train_test_split\n",
    "from sklearn.feature_extraction.text import TfidfVectorizer\n",
    "from sklearn.metrics import classification_report,confusion_matrix\n",
    "from sklearn.model_selection import KFold"
   ]
  },
  {
   "cell_type": "markdown",
   "id": "64e020d8",
   "metadata": {},
   "source": [
    "# Prepaid a dataset\n",
    " This project reading a Twitter dataset, removes irrelevant tweets, preprocesses the text by converting to lowercase, removing punctuation and digits, removing stopwords, and lemmatizing the words. Finally, it maps the sentiment labels to numeric values."
   ]
  },
  {
   "cell_type": "code",
   "execution_count": 2,
   "id": "cf170040",
   "metadata": {},
   "outputs": [
    {
     "data": {
      "text/html": [
       "<div>\n",
       "<style scoped>\n",
       "    .dataframe tbody tr th:only-of-type {\n",
       "        vertical-align: middle;\n",
       "    }\n",
       "\n",
       "    .dataframe tbody tr th {\n",
       "        vertical-align: top;\n",
       "    }\n",
       "\n",
       "    .dataframe thead th {\n",
       "        text-align: right;\n",
       "    }\n",
       "</style>\n",
       "<table border=\"1\" class=\"dataframe\">\n",
       "  <thead>\n",
       "    <tr style=\"text-align: right;\">\n",
       "      <th></th>\n",
       "      <th>2</th>\n",
       "      <th>3</th>\n",
       "    </tr>\n",
       "  </thead>\n",
       "  <tbody>\n",
       "    <tr>\n",
       "      <th>0</th>\n",
       "      <td>Positive</td>\n",
       "      <td>im getting on borderlands and i will murder yo...</td>\n",
       "    </tr>\n",
       "    <tr>\n",
       "      <th>1</th>\n",
       "      <td>Positive</td>\n",
       "      <td>I am coming to the borders and I will kill you...</td>\n",
       "    </tr>\n",
       "    <tr>\n",
       "      <th>2</th>\n",
       "      <td>Positive</td>\n",
       "      <td>im getting on borderlands and i will kill you ...</td>\n",
       "    </tr>\n",
       "    <tr>\n",
       "      <th>3</th>\n",
       "      <td>Positive</td>\n",
       "      <td>im coming on borderlands and i will murder you...</td>\n",
       "    </tr>\n",
       "    <tr>\n",
       "      <th>4</th>\n",
       "      <td>Positive</td>\n",
       "      <td>im getting on borderlands 2 and i will murder ...</td>\n",
       "    </tr>\n",
       "  </tbody>\n",
       "</table>\n",
       "</div>"
      ],
      "text/plain": [
       "          2                                                  3\n",
       "0  Positive  im getting on borderlands and i will murder yo...\n",
       "1  Positive  I am coming to the borders and I will kill you...\n",
       "2  Positive  im getting on borderlands and i will kill you ...\n",
       "3  Positive  im coming on borderlands and i will murder you...\n",
       "4  Positive  im getting on borderlands 2 and i will murder ..."
      ]
     },
     "execution_count": 2,
     "metadata": {},
     "output_type": "execute_result"
    }
   ],
   "source": [
    "# Load dataset and drop null values\n",
    "data = pd.read_csv('twitter_training.csv',header=None).dropna()\n",
    "\n",
    "# Remove irrelevant tweets from the dataset\n",
    "data = data[data[2]!='Irrelevant']\n",
    "\n",
    "# Remove unwanted columns from the dataset\n",
    "data.drop(columns=[0,1],inplace=True)\n",
    "data.head()"
   ]
  },
  {
   "cell_type": "code",
   "execution_count": 3,
   "id": "dfba1e17",
   "metadata": {},
   "outputs": [],
   "source": [
    "# Define the stopwords and lemmatizer object\n",
    "stop_words = set(stopwords.words('english'))\n",
    "lemmatizer = WordNetLemmatizer()\n",
    "\n",
    "# Define function to preprocess text\n",
    "def preprocess_text(text):\n",
    "    # Convert text to lowercase\n",
    "    text = text.lower()\n",
    "    # Remove punctuation and digits from text\n",
    "    text = re.sub(r'[^\\w\\s]', '', text)\n",
    "    text = re.sub(r'\\d+', '', text)\n",
    "    # Tokenize text into words\n",
    "    tokens = nltk.word_tokenize(text)\n",
    "    # Remove stopwords and words with length less than 2\n",
    "    tokens = [t for t in tokens if t not in stop_words and len(t) > 1]\n",
    "    # Lemmatize words\n",
    "    tokens = [lemmatizer.lemmatize(t) for t in tokens]\n",
    "    # Join tokens to form text again\n",
    "    text = \" \".join(tokens)\n",
    "    return text"
   ]
  },
  {
   "cell_type": "code",
   "execution_count": 4,
   "id": "137a6ab1",
   "metadata": {},
   "outputs": [],
   "source": [
    "data['clean_text'] = data[3].apply(lambda x:preprocess_text(x))"
   ]
  },
  {
   "cell_type": "code",
   "execution_count": 5,
   "id": "ed531332",
   "metadata": {},
   "outputs": [
    {
     "data": {
      "text/html": [
       "<div>\n",
       "<style scoped>\n",
       "    .dataframe tbody tr th:only-of-type {\n",
       "        vertical-align: middle;\n",
       "    }\n",
       "\n",
       "    .dataframe tbody tr th {\n",
       "        vertical-align: top;\n",
       "    }\n",
       "\n",
       "    .dataframe thead th {\n",
       "        text-align: right;\n",
       "    }\n",
       "</style>\n",
       "<table border=\"1\" class=\"dataframe\">\n",
       "  <thead>\n",
       "    <tr style=\"text-align: right;\">\n",
       "      <th></th>\n",
       "      <th>2</th>\n",
       "      <th>3</th>\n",
       "      <th>clean_text</th>\n",
       "      <th>sentiment</th>\n",
       "    </tr>\n",
       "  </thead>\n",
       "  <tbody>\n",
       "    <tr>\n",
       "      <th>0</th>\n",
       "      <td>Positive</td>\n",
       "      <td>im getting on borderlands and i will murder yo...</td>\n",
       "      <td>im getting borderland murder</td>\n",
       "      <td>1</td>\n",
       "    </tr>\n",
       "    <tr>\n",
       "      <th>1</th>\n",
       "      <td>Positive</td>\n",
       "      <td>I am coming to the borders and I will kill you...</td>\n",
       "      <td>coming border kill</td>\n",
       "      <td>1</td>\n",
       "    </tr>\n",
       "    <tr>\n",
       "      <th>2</th>\n",
       "      <td>Positive</td>\n",
       "      <td>im getting on borderlands and i will kill you ...</td>\n",
       "      <td>im getting borderland kill</td>\n",
       "      <td>1</td>\n",
       "    </tr>\n",
       "    <tr>\n",
       "      <th>3</th>\n",
       "      <td>Positive</td>\n",
       "      <td>im coming on borderlands and i will murder you...</td>\n",
       "      <td>im coming borderland murder</td>\n",
       "      <td>1</td>\n",
       "    </tr>\n",
       "    <tr>\n",
       "      <th>4</th>\n",
       "      <td>Positive</td>\n",
       "      <td>im getting on borderlands 2 and i will murder ...</td>\n",
       "      <td>im getting borderland murder</td>\n",
       "      <td>1</td>\n",
       "    </tr>\n",
       "  </tbody>\n",
       "</table>\n",
       "</div>"
      ],
      "text/plain": [
       "          2                                                  3  \\\n",
       "0  Positive  im getting on borderlands and i will murder yo...   \n",
       "1  Positive  I am coming to the borders and I will kill you...   \n",
       "2  Positive  im getting on borderlands and i will kill you ...   \n",
       "3  Positive  im coming on borderlands and i will murder you...   \n",
       "4  Positive  im getting on borderlands 2 and i will murder ...   \n",
       "\n",
       "                     clean_text  sentiment  \n",
       "0  im getting borderland murder          1  \n",
       "1            coming border kill          1  \n",
       "2    im getting borderland kill          1  \n",
       "3   im coming borderland murder          1  \n",
       "4  im getting borderland murder          1  "
      ]
     },
     "execution_count": 5,
     "metadata": {},
     "output_type": "execute_result"
    }
   ],
   "source": [
    "# Map the sentiment labels to numeric values\n",
    "data['sentiment'] = data[2].map({'Positive': 1, 'Neutral': 0, 'Negative': -1})\n",
    "data.head()"
   ]
  },
  {
   "cell_type": "markdown",
   "id": "abd3a6f0",
   "metadata": {},
   "source": [
    "# Baseline\n",
    "Building a baseline model for sentiment analysis of Twitter data using the Multinomial Naive Bayes algorithm, vectorizes the preprocessed text data using TfidfVectorizer, splits it into training and testing sets, trains the Multinomial Naive Bayes classifier on the training set, evaluates the model performance using classification report, and visualizes the performance of the model using a confusion matrix. This baseline model can be used to compare the performance of more complex models for sentiment analysis of Twitter data."
   ]
  },
  {
   "cell_type": "code",
   "execution_count": 6,
   "id": "9c2573ed",
   "metadata": {},
   "outputs": [
    {
     "data": {
      "text/plain": [
       "((48896, 30617), (12225, 30617))"
      ]
     },
     "execution_count": 6,
     "metadata": {},
     "output_type": "execute_result"
    }
   ],
   "source": [
    "# Get the target variable (sentiment) and predictor variable (clean_text)\n",
    "baseline_y = data['sentiment'].values\n",
    "baseline_X = data['clean_text'].values\n",
    "\n",
    "# Define the vectorizer object to transform the text data into numerical features\n",
    "vectorizer = TfidfVectorizer()\n",
    "baseline_X = vectorizer.fit_transform(baseline_X)\n",
    "\n",
    "# Split the data into training and testing sets\n",
    "X_train_B, X_test_B, y_train_B, y_test_B = train_test_split(baseline_X, baseline_y, test_size=0.2, random_state=42)\n",
    "X_train_B.shape,X_test_B.shape"
   ]
  },
  {
   "cell_type": "code",
   "execution_count": 7,
   "id": "3f450a89",
   "metadata": {},
   "outputs": [
    {
     "name": "stdout",
     "output_type": "stream",
     "text": [
      "              precision    recall  f1-score   support\n",
      "\n",
      "          -1       0.73      0.91      0.81      4427\n",
      "           0       0.91      0.60      0.72      3678\n",
      "           1       0.78      0.81      0.80      4120\n",
      "\n",
      "    accuracy                           0.78     12225\n",
      "   macro avg       0.81      0.77      0.78     12225\n",
      "weighted avg       0.80      0.78      0.78     12225\n",
      "\n"
     ]
    },
    {
     "data": {
      "image/png": "[encoded data removed]",
      "text/plain": [
       "<Figure size 432x288 with 2 Axes>"
      ]
     },
     "metadata": {
      "needs_background": "light"
     },
     "output_type": "display_data"
    }
   ],
   "source": [
    "# Define the Naive Bayes classifier object and fit it on the training data\n",
    "clf = MultinomialNB()\n",
    "clf.fit(X_train_B, y_train_B)\n",
    "\n",
    "# Make predictions on the test data using the trained model\n",
    "y_pred1 = clf.predict(X_test_B)\n",
    "\n",
    "# Generate the classification report to evaluate the performance of the model\n",
    "report = classification_report(y_test_B, y_pred1)\n",
    "print(report)\n",
    "\n",
    "# Generate the confusion matrix and visualize it using seaborn\n",
    "cmb = confusion_matrix(y_test_B, y_pred1)\n",
    "sns.heatmap(cmb, annot=True, fmt='d', cmap='Blues')\n",
    "plt.title('Confusion Matrix')\n",
    "plt.xlabel('Predicted Labels')\n",
    "plt.ylabel('True Labels')\n",
    "plt.show()"
   ]
  },
  {
   "cell_type": "markdown",
   "id": "16d76533",
   "metadata": {},
   "source": [
    "# Text representations\n",
    "Preprocessing the text data by tokenizing the text and converting it into numerical sequences, which will be used as inputs to a neural network model.&nbsp;\n",
    "</br>\n",
    "The number of unique words in the data is also printed. The labels are converted into categorical values using one-hot encoding. These preprocessed data will be used as inputs to a neural network model for sentiment analysis."
   ]
  },
  {
   "cell_type": "code",
   "execution_count": 8,
   "id": "33803515",
   "metadata": {},
   "outputs": [
    {
     "name": "stdout",
     "output_type": "stream",
     "text": [
      "Total 30395 unique words.\n"
     ]
    }
   ],
   "source": [
    "# Tokenize the text data and convert it into sequences of numerical values\n",
    "tokenizer = Tokenizer()\n",
    "tokenizer.fit_on_texts(data['clean_text'].values)\n",
    "sequences = tokenizer.texts_to_sequences(data['clean_text'].values)\n",
    "# Pad the sequences to have equal length\n",
    "X = pad_sequences(sequences, maxlen = 40)\n",
    "# Get the total number of unique words in the data\n",
    "word_num = tokenizer.word_index\n",
    "print('Total %s unique words.' % len(word_num))"
   ]
  },
  {
   "cell_type": "code",
   "execution_count": 9,
   "id": "3bda86d8",
   "metadata": {},
   "outputs": [
    {
     "data": {
      "text/plain": [
       "(61121, 3)"
      ]
     },
     "execution_count": 9,
     "metadata": {},
     "output_type": "execute_result"
    }
   ],
   "source": [
    "# Convert the labels into categorical values\n",
    "y=data['sentiment']\n",
    "label_encoder = LabelEncoder()\n",
    "label_encoder.fit(data['sentiment'])\n",
    "y = np_utils.to_categorical(label_encoder.transform(y))\n",
    "y.shape"
   ]
  },
  {
   "cell_type": "code",
   "execution_count": 10,
   "id": "487ef9cf",
   "metadata": {},
   "outputs": [
    {
     "data": {
      "text/plain": [
       "((60509, 40), (612, 40))"
      ]
     },
     "execution_count": 10,
     "metadata": {},
     "output_type": "execute_result"
    }
   ],
   "source": [
    "# Split the preprocessed data into training and testing sets\n",
    "X_train, X_test, y_train, y_test = train_test_split(X, y, test_size=0.01, random_state=42)\n",
    "X_train.shape,X_test.shape"
   ]
  },
  {
   "cell_type": "code",
   "execution_count": 11,
   "id": "24a7f126",
   "metadata": {},
   "outputs": [
    {
     "data": {
      "text/plain": [
       "(60509, 40)"
      ]
     },
     "execution_count": 11,
     "metadata": {},
     "output_type": "execute_result"
    }
   ],
   "source": [
    "X_train.shape"
   ]
  },
  {
   "cell_type": "code",
   "execution_count": 12,
   "id": "6ee14967",
   "metadata": {},
   "outputs": [
    {
     "data": {
      "text/plain": [
       "((48407, 40), (12102, 40))"
      ]
     },
     "execution_count": 12,
     "metadata": {},
     "output_type": "execute_result"
    }
   ],
   "source": [
    "# Split the training data into training and validation sets\n",
    "X_train, X_val, y_train, y_val = train_test_split(X_train, y_train, test_size=0.2, random_state=42)\n",
    "X_train.shape,X_val.shape"
   ]
  },
  {
   "cell_type": "markdown",
   "id": "ef87971c",
   "metadata": {},
   "source": [
    "## Class_weights dictionary\n",
    "Calculates the class weights for each class in a multi-class classification problem, where the data is imbalanced. First, it finds the number of instances in each class from the training set using np.bincount(). Then, it calculates the weight of each class by dividing the total number of instances by the product of the number of classes and the number of instances in each class. Finally, it creates a dictionary of class indices and their corresponding weights, which can be used as the class_weight parameter in the model training process."
   ]
  },
  {
   "cell_type": "code",
   "execution_count": 51,
   "id": "85ae6423",
   "metadata": {},
   "outputs": [
    {
     "data": {
      "text/plain": [
       "{0: 0.9086932852771676, 1: 1.1246718245393927, 2: 0.989736040401562}"
      ]
     },
     "execution_count": 51,
     "metadata": {},
     "output_type": "execute_result"
    }
   ],
   "source": [
    "labels = np.argmax(y_train, axis=1)\n",
    "class_counts = np.bincount(labels)\n",
    "class_weights = class_counts.sum() / (len(class_counts) * class_counts)\n",
    "class_weights= dict(zip(np.arange(len(class_weights)), class_weights))\n",
    "class_weights"
   ]
  },
  {
   "cell_type": "markdown",
   "id": "6c674e4f",
   "metadata": {},
   "source": [
    "# Ecaluation Methodology\n",
    "\n",
    "Multiple evaluation methods to assess the performance of the model, including classification report, confusion matrix, validation loss, validation accuracy, and validation mean absolute error (MAE).\n",
    "\n",
    "The classification report is a metric used to evaluate the performance of a classification model. It outputs metrics such as accuracy, recall, and F1 score for each class, as well as the average and weighted average of all classes. The confusion matrix is a visualization metric used to show the correct and incorrect predictions of the model for different classes, helping us understand the model's performance more intuitively.\n",
    "\n",
    "Validation loss and accuracy are metrics used to measure the performance of the model on the validation set, which is a small dataset separated from the training data used to evaluate the model's performance on unseen data. Validation MAE is a metric used to evaluate the performance of regression models, which is the average of the absolute difference between predicted and actual values.\n",
    "\n",
    "Additionally, the code uses K-fold cross-validation to evaluate the model's performance. K-fold cross-validation is a method used to assess the model's generalization ability, which divides the dataset into K subsets, using K-1 subsets as the training set and one subset as the validation set. Finally, the results of K folds are averaged to obtain the final evaluation result. In the code, three-fold cross-validation is used, and each subset is trained and validated."
   ]
  },
  {
   "cell_type": "markdown",
   "id": "986bc23e",
   "metadata": {},
   "source": [
    "## Validation plots function\n",
    "Defines a function plot_history() to generate plots of training and validation accuracy and loss over epochs for a given Keras history object. \n",
    "<br/>\n",
    "This function is used to generate plots of the training and validation accuracy and loss over epochs for the model that was trained earlier. The purpose of generating these plots is to visualize the performance of the model during training and determine if the model has overfit to the training data or not"
   ]
  },
  {
   "cell_type": "code",
   "execution_count": 13,
   "id": "f1e7e710",
   "metadata": {},
   "outputs": [],
   "source": [
    "# Define a function to plot the training and validation loss and accuracy over epochs\n",
    "def plot_history(history):\n",
    "    fig, axs = plt.subplots(2)\n",
    "    # Plot training and validation accuracy over epochs\n",
    "    axs[0].plot(history.history[\"acc\"],'*-', label=\"accuracy\")\n",
    "    axs[0].plot(history.history[\"val_acc\"],'*-', label=\"validation accuracy\")\n",
    "    axs[0].legend(loc=\"lower right\")\n",
    "    axs[0].set_title(\"Accuracy evaluation\")\n",
    "    # Plot training and validation loss over epochs\n",
    "    axs[1].plot(history.history[\"loss\"],'*-', label=\"loss\")\n",
    "    axs[1].plot(history.history[\"val_loss\"],'*-', label=\"validation loss\")\n",
    "    axs[1].set_ylabel(\"Loss\")\n",
    "    axs[1].set_xlabel(\"Epoch\")\n",
    "    axs[1].legend(loc=\"upper right\")\n",
    "    axs[1].set_title(\"Loss evaluation\")\n",
    "\n",
    "    plt.show()"
   ]
  },
  {
   "cell_type": "markdown",
   "id": "2f8ebb56",
   "metadata": {},
   "source": [
    "### evaluate_model \n",
    "This code defines a function called evaluate_model that evaluates a given model on validation and test data. The function takes as input the model, validation data X_val and y_val, and test data X_test and y_test.\n",
    "\n",
    "The function first evaluates the model on the validation data and prints the validation loss, validation accuracy, and validation mean absolute error (MAE). It then evaluates the model on the test data and prints the test loss, test accuracy, and test MAE.\n",
    "\n",
    "Next, the function generates predictions on the test data using the trained model and computes the classification report and confusion matrix. The classification report contains precision, recall, F1-score, and support for each class. The confusion matrix is a table that shows the number of true positives, false positives, true negatives, and false negatives for each class.\n",
    "\n",
    "Finally, the function generates a heatmap of the confusion matrix to visualize the model's performance. The heatmap shows the predicted labels on the x-axis and the true labels on the y-axis. The diagonal elements of the heatmap represent correct predictions, while the off-diagonal elements represent incorrect predictions. The color of each cell indicates the number of predictions for that combination of true and predicted labels."
   ]
  },
  {
   "cell_type": "code",
   "execution_count": 14,
   "id": "abbc4e08",
   "metadata": {},
   "outputs": [],
   "source": [
    "# Define a function to evaluate the model's performance on validation and testing data\n",
    "def evaluate_model(model, X_val, y_val, X_test, y_test):\n",
    "# Evaluate the model on validation data and print the loss and accuracy\n",
    "    val_loss, val_acc, val_mae = model.evaluate(X_val, y_val, batch_size=32)\n",
    "    print('Validation Loss:', val_loss)\n",
    "    print('Validation Accuracy:', val_acc, '\\n')\n",
    "# Evaluate the model on validation data and print the loss and accuracy\n",
    "    test_loss, test_acc, test_mae = model.evaluate(X_test, y_test, batch_size=32)\n",
    "    print('Test Loss:', test_loss)\n",
    "    print('Test Accuracy:', test_acc, '\\n')\n",
    "    # Generate predictions on testing data and print the classification report and confusion matrix\n",
    "    y_pred = model.predict(X_test)\n",
    "    y_pred_labels = np.argmax(y_pred, axis=1)\n",
    "    y_test_labels = np.argmax(y_test, axis=1)\n",
    "\n",
    "    report = classification_report(y_test_labels, y_pred_labels)\n",
    "    print(report)\n",
    "    \n",
    " # Generate a confusion matrix plot to visualize the model's performance\n",
    "    cm = confusion_matrix(y_test_labels, y_pred_labels)\n",
    "    sns.heatmap(cm, annot=True, fmt='d', cmap='Blues')\n",
    "    plt.title('Confusion Matrix')\n",
    "    plt.xlabel('Predicted Labels')\n",
    "    plt.ylabel('True Labels')\n",
    "    plt.show()"
   ]
  },
  {
   "cell_type": "markdown",
   "id": "9cf21ede",
   "metadata": {},
   "source": [
    "### evaluate_model_with_kfold\n",
    "\n",
    "This code defines a function evaluate_model_with_kfold that performs k-fold cross-validation on a given model. The function takes as input the training data X_train and y_train, the test data X_test and y_test, and the model to be evaluated.\n",
    "\n",
    "The function first initializes a KFold object with the number of splits specified as n_splits (in this case, 3), and sets the shuffle and random_state parameters. It then initializes an empty list scores to store the evaluation metrics of each fold.\n",
    "\n",
    "For each fold, the function splits the training data into training and validation sets using the indices returned by KFold. The model is then trained on the training set for the specified number of epochs, with a batch size of 128 and early stopping callback to prevent overfitting. The model is then evaluated on the validation set, and the evaluation metric (in this case, accuracy) is appended to the scores list.\n",
    "\n",
    "After all folds have been processed, the function prints the cross-validation results (the accuracy of each fold) and the average accuracy across all folds. Finally, the model is evaluated on the test set, and the test set accuracy is printed.\n",
    "\n",
    "This function can be useful for evaluating the performance of a model on a dataset and can help identify if the model is overfitting to the training data. By using k-fold cross-validation, we can obtain a more reliable estimate of the model's performance than if we were to evaluate it on a single train/test split."
   ]
  },
  {
   "cell_type": "code",
   "execution_count": 15,
   "id": "8036a062",
   "metadata": {},
   "outputs": [],
   "source": [
    "def evaluate_model_with_kfold(X_train, y_train, X_test, y_test, model):\n",
    "    # Define K-fold cross-validation\n",
    "    kfold = KFold(n_splits=3, shuffle=True, random_state=42)\n",
    "    scores = []\n",
    "\n",
    "    # Use K-fold cross-validation to evaluate the model\n",
    "    for train_index, val_index in kfold.split(X_train):\n",
    "        X_train_k, X_val_k = X_train[train_index], X_train[val_index]\n",
    "        y_train_k, y_val_k = y_train[train_index], y_train[val_index]\n",
    "\n",
    "        # Train the model\n",
    "        model.fit(X_train_k, y_train_k, epochs=10, validation_data=(X_val_k, y_val_k), batch_size=128,callbacks=[checkpoint,early_stop],verbose=0)\n",
    "\n",
    "        # Evaluate the model\n",
    "        score = model.evaluate(X_val_k, y_val_k)\n",
    "        scores.append(score[1])\n",
    "\n",
    "    # Print the cross-validation results\n",
    "    print(\"Cross-validation results:\", scores)\n",
    "    print(\"Average accuracy:\", np.mean(scores))\n",
    "\n",
    "    # Evaluate the model on the test set\n",
    "    score = model.evaluate(X_test, y_test)\n",
    "    print(\"Test set accuracy:\", score[1])"
   ]
  },
  {
   "cell_type": "markdown",
   "id": "1174520e",
   "metadata": {},
   "source": [
    "### plot_validation_mae\n",
    "This code defines a function plot_validation_mae that generates a plot of the validation mean absolute error (MAE) for each epoch in the training history of a deep learning model.\n",
    "\n",
    "The function takes as input the history object returned by model.fit() method, which contains information about the loss and metrics computed during training.\n",
    "\n",
    "The function first extracts the validation MAE values from the history object and stores them in the mae_history list. It then generates a list of epochs ranging from 1 to the length of mae_history, and plots the validation MAE against the epochs using Matplotlib's plt.plot() function.\n",
    "\n",
    "The x-axis of the plot represents the number of epochs, and the y-axis represents the validation MAE. The plot can be used to visualize how well the model is generalizing to unseen data during training. If the validation MAE remains high while the training loss decreases, it could indicate overfitting. On the other hand, if the validation MAE decreases along with the training loss, it suggests that the model is learning to generalize well to new data"
   ]
  },
  {
   "cell_type": "code",
   "execution_count": 16,
   "id": "10b4b9d0",
   "metadata": {},
   "outputs": [],
   "source": [
    "def plot_validation_mae(history):\n",
    "    mae_history = history.history['val_mae']\n",
    "    epochs = range(1, len(mae_history) + 1)\n",
    "    plt.plot(epochs,mae_history)\n",
    "    plt.xlabel('Epochs')\n",
    "    plt.ylabel('Validation MAE')\n",
    "    plt.show()"
   ]
  },
  {
   "cell_type": "markdown",
   "id": "5d4751d9",
   "metadata": {},
   "source": [
    "### smooth_curve\n",
    "This function takes a list of values, called points, and applies a smoothing algorithm to it to create a new list of smoothed values, which is then returned.\n",
    "\n",
    "The smoothing algorithm works by taking each point in the input list and computing a weighted average of that point and the previous smoothed point. The weights are determined by the factor parameter, which controls how much weight is given to the previous smoothed point versus the current input point.\n",
    "\n",
    "The function initializes an empty list smoothed_points and then iterates over the input points. For each point, it checks whether the list of smoothed points is empty, and if so, appends the input point to the list unchanged. Otherwise, it computes the weighted average of the input point and the previous smoothed point using the factor parameter, and appends the resulting smoothed point to the list.\n",
    "\n",
    "The result is a smoothed version of the input list, with each point being an average of the corresponding input point and the previous smoothed point, weighted more heavily towards the previous smoothed point by the factor parameter. This smoothing algorithm is often used in time series analysis and other applications where noisy data needs to be filtered to extract underlying trends."
   ]
  },
  {
   "cell_type": "code",
   "execution_count": 17,
   "id": "141477b1",
   "metadata": {},
   "outputs": [],
   "source": [
    "def smooth_curve(points, factor = 0.9):\n",
    "    smoothed_points = []\n",
    "    for point in points:\n",
    "        if smoothed_points: # an empty list is 'False'\n",
    "            previous = smoothed_points[-1] # the last appended point\n",
    "            smoothed_points.append(previous * factor + point * (1 - factor))\n",
    "        else:\n",
    "            smoothed_points.append(point)\n",
    "    return smoothed_points"
   ]
  },
  {
   "cell_type": "markdown",
   "id": "32c1cfc2",
   "metadata": {},
   "source": [
    "# Developing a model that batter then baseline but overfits "
   ]
  },
  {
   "cell_type": "code",
   "execution_count": 18,
   "id": "e2949789",
   "metadata": {},
   "outputs": [],
   "source": [
    "# Define the number of words in the vocabulary\n",
    "most_word_num = len(word_num)+3"
   ]
  },
  {
   "cell_type": "code",
   "execution_count": 19,
   "id": "8726efbf",
   "metadata": {},
   "outputs": [],
   "source": [
    "# Define callbacks for early stopping and saving the best weights\n",
    "checkpoint = ModelCheckpoint('weights.hdf5', monitor='val_loss', save_best_only=True)\n",
    "early_stop = EarlyStopping(patience=5)"
   ]
  },
  {
   "cell_type": "code",
   "execution_count": 20,
   "id": "91a4d858",
   "metadata": {},
   "outputs": [
    {
     "name": "stdout",
     "output_type": "stream",
     "text": [
      "Model: \"sequential\"\n",
      "_________________________________________________________________\n",
      " Layer (type)                Output Shape              Param #   \n",
      "=================================================================\n",
      " embedding (Embedding)       (None, 40, 50)            1519900   \n",
      "                                                                 \n",
      " simple_rnn (SimpleRNN)      (None, 128)               22912     \n",
      "                                                                 \n",
      " dense (Dense)               (None, 3)                 387       \n",
      "                                                                 \n",
      "=================================================================\n",
      "Total params: 1,543,199\n",
      "Trainable params: 1,543,199\n",
      "Non-trainable params: 0\n",
      "_________________________________________________________________\n",
      "None\n"
     ]
    }
   ],
   "source": [
    "model_SimpleRNN = Sequential()\n",
    "model_SimpleRNN.add(Embedding(most_word_num,50,input_length = X_train.shape[1]))\n",
    "model_SimpleRNN.add(SimpleRNN (128))\n",
    "model_SimpleRNN.add(Dense(3,activation='softmax'))\n",
    "# Compile the model with the Adam optimizer and categorical cross-entropy loss\n",
    "model_SimpleRNN.compile(optimizer=Adam(), loss='categorical_crossentropy', metrics=['acc','mae'])\n",
    "model_SimpleRNN_initial_weights = model_SimpleRNN.get_weights()\n",
    "# Print the summary of the model structure\n",
    "print(model_SimpleRNN.summary())"
   ]
  },
  {
   "cell_type": "code",
   "execution_count": 21,
   "id": "1a1324f7",
   "metadata": {},
   "outputs": [
    {
     "name": "stdout",
     "output_type": "stream",
     "text": [
      "Epoch 1/30\n",
      "190/190 [==============================] - 11s 50ms/step - loss: 0.8325 - acc: 0.6196 - mae: 0.3421 - val_loss: 0.5450 - val_acc: 0.7870 - val_mae: 0.2256\n",
      "Epoch 2/30\n",
      "190/190 [==============================] - 10s 53ms/step - loss: 0.3051 - acc: 0.8874 - mae: 0.1275 - val_loss: 0.3438 - val_acc: 0.8647 - val_mae: 0.1306\n",
      "Epoch 3/30\n",
      "190/190 [==============================] - 11s 57ms/step - loss: 0.1519 - acc: 0.9427 - mae: 0.0636 - val_loss: 0.3668 - val_acc: 0.8620 - val_mae: 0.1206\n",
      "Epoch 4/30\n",
      "190/190 [==============================] - 11s 58ms/step - loss: 0.1050 - acc: 0.9584 - mae: 0.0433 - val_loss: 0.3542 - val_acc: 0.8784 - val_mae: 0.0985\n",
      "Epoch 5/30\n",
      "190/190 [==============================] - 12s 61ms/step - loss: 0.0850 - acc: 0.9656 - mae: 0.0345 - val_loss: 0.3963 - val_acc: 0.8731 - val_mae: 0.0991\n",
      "Epoch 6/30\n",
      "190/190 [==============================] - 12s 64ms/step - loss: 0.0740 - acc: 0.9681 - mae: 0.0296 - val_loss: 0.4140 - val_acc: 0.8750 - val_mae: 0.0942\n",
      "Epoch 7/30\n",
      "190/190 [==============================] - 11s 58ms/step - loss: 0.0715 - acc: 0.9695 - mae: 0.0277 - val_loss: 0.4170 - val_acc: 0.8760 - val_mae: 0.0925\n"
     ]
    }
   ],
   "source": [
    "model_SimpleRNN.set_weights(model_SimpleRNN_initial_weights)\n",
    "\n",
    "model_SimpleRNN_history = model_SimpleRNN.fit(X_train,y_train,epochs=30,validation_data=(X_val, y_val), batch_size = 256,callbacks=[checkpoint,early_stop])"
   ]
  },
  {
   "cell_type": "code",
   "execution_count": 23,
   "id": "a6946b6f",
   "metadata": {},
   "outputs": [
    {
     "name": "stdout",
     "output_type": "stream",
     "text": [
      "379/379 [==============================] - 1s 3ms/step - loss: 0.4170 - acc: 0.8760 - mae: 0.0925\n",
      "Validation Loss: 0.41700509190559387\n",
      "Validation Accuracy: 0.8759709000587463 \n",
      "\n",
      "20/20 [==============================] - 0s 3ms/step - loss: 0.4395 - acc: 0.8807 - mae: 0.0903\n",
      "Test Loss: 0.4395208954811096\n",
      "Test Accuracy: 0.8807189464569092 \n",
      "\n",
      "20/20 [==============================] - 0s 4ms/step\n",
      "              precision    recall  f1-score   support\n",
      "\n",
      "           0       0.90      0.88      0.89       220\n",
      "           1       0.88      0.87      0.88       193\n",
      "           2       0.86      0.89      0.87       199\n",
      "\n",
      "    accuracy                           0.88       612\n",
      "   macro avg       0.88      0.88      0.88       612\n",
      "weighted avg       0.88      0.88      0.88       612\n",
      "\n"
     ]
    },
    {
     "data": {
      "image/png": "[encoded data removed]",
      "text/plain": [
       "<Figure size 432x288 with 2 Axes>"
      ]
     },
     "metadata": {
      "needs_background": "light"
     },
     "output_type": "display_data"
    }
   ],
   "source": [
    "evaluate_model(model_SimpleRNN, X_val, y_val, X_test, y_test)"
   ]
  },
  {
   "cell_type": "code",
   "execution_count": 22,
   "id": "5d2a1486",
   "metadata": {},
   "outputs": [
    {
     "data": {
      "image/png": "[encoded data removed]",
      "text/plain": [
       "<Figure size 432x288 with 2 Axes>"
      ]
     },
     "metadata": {
      "needs_background": "light"
     },
     "output_type": "display_data"
    }
   ],
   "source": [
    "plot_history(model_SimpleRNN_history)"
   ]
  },
  {
   "cell_type": "markdown",
   "id": "36f8e06e",
   "metadata": {},
   "source": [
    "### Observation and Explanation for above curve: \n",
    "During the training process, the training loss keeps decreasing while the validation loss first decreases, reaches a minimum, and then starts to increase again.\n",
    "<br/><br/>\n",
    "This is a common phenomenon called overfitting, where the model is trained too well on the training data and starts to learn the noise in the data. As a result, the model's performance starts to deteriorate on unseen validation data, and the validation loss starts to increase. It means that the model has started to memorize the training data instead of learning the underlying patterns, and it fails to generalize well on new data."
   ]
  },
  {
   "cell_type": "markdown",
   "id": "fac4b20f",
   "metadata": {},
   "source": [
    "# RNN Model\n",
    "Builds a RNN model for sentiment analysis with an Embedding layer, GRU layer, and several Dense layers with different activation functions and regularization. The Adam optimizer is used to minimize the categorical cross-entropy loss during training. The training process is saved with callbacks to save the weights with best validation loss and stop early if the validation loss does not improve. The RNN model is trained on the preprocessed training data, and the validation data is used to evaluate the model's performance during training. The history of the training process is saved for further analysis."
   ]
  },
  {
   "cell_type": "code",
   "execution_count": 24,
   "id": "d68086fb",
   "metadata": {},
   "outputs": [
    {
     "name": "stdout",
     "output_type": "stream",
     "text": [
      "Model: \"sequential_1\"\n",
      "_________________________________________________________________\n",
      " Layer (type)                Output Shape              Param #   \n",
      "=================================================================\n",
      " embedding_1 (Embedding)     (None, 40, 50)            1519900   \n",
      "                                                                 \n",
      " gru (GRU)                   (None, 100)               45600     \n",
      "                                                                 \n",
      " dense_1 (Dense)             (None, 64)                6464      \n",
      "                                                                 \n",
      " dense_2 (Dense)             (None, 32)                2080      \n",
      "                                                                 \n",
      " dense_3 (Dense)             (None, 3)                 99        \n",
      "                                                                 \n",
      "=================================================================\n",
      "Total params: 1,574,143\n",
      "Trainable params: 1,574,143\n",
      "Non-trainable params: 0\n",
      "_________________________________________________________________\n",
      "None\n"
     ]
    }
   ],
   "source": [
    "# Define the structure of the neural network model\n",
    "model_RNN = Sequential()\n",
    "model_RNN.add(Embedding(most_word_num,50,input_length = X_train.shape[1]))\n",
    "model_RNN.add(GRU(100, dropout = 0.2, recurrent_dropout = 0.2, kernel_regularizer=regularizers.l2(0.02)))\n",
    "model_RNN.add(Dense(64, activation='relu',kernel_regularizer=regularizers.l2(0.02)))\n",
    "model_RNN.add(Dense(32,activation='relu',kernel_regularizer=regularizers.l2(0.02)))\n",
    "model_RNN.add(Dense(3,activation='softmax'))\n",
    "# Compile the model with the Adam optimizer and categorical cross-entropy loss\n",
    "model_RNN.compile(optimizer=Adam(learning_rate=0.0005), loss='categorical_crossentropy', metrics=['acc','mae'])\n",
    "model_RNN_initial_weights = model_RNN.get_weights()\n",
    "# Print the summary of the model structure\n",
    "print(model_RNN.summary())"
   ]
  },
  {
   "cell_type": "code",
   "execution_count": 25,
   "id": "9a5deea4",
   "metadata": {},
   "outputs": [
    {
     "name": "stdout",
     "output_type": "stream",
     "text": [
      "Epoch 1/20\n",
      "379/379 [==============================] - 44s 110ms/step - loss: 2.1744 - acc: 0.4631 - mae: 0.4138 - val_loss: 1.0489 - val_acc: 0.5836 - val_mae: 0.3559\n",
      "Epoch 2/20\n",
      "379/379 [==============================] - 39s 104ms/step - loss: 0.8860 - acc: 0.6383 - mae: 0.3190 - val_loss: 0.8154 - val_acc: 0.6748 - val_mae: 0.3074\n",
      "Epoch 3/20\n",
      "379/379 [==============================] - 39s 104ms/step - loss: 0.7397 - acc: 0.7233 - mae: 0.2688 - val_loss: 0.7535 - val_acc: 0.7130 - val_mae: 0.2731\n",
      "Epoch 4/20\n",
      "379/379 [==============================] - 38s 100ms/step - loss: 0.6649 - acc: 0.7678 - mae: 0.2370 - val_loss: 0.7116 - val_acc: 0.7381 - val_mae: 0.2490\n",
      "Epoch 5/20\n",
      "379/379 [==============================] - 38s 100ms/step - loss: 0.6128 - acc: 0.7937 - mae: 0.2143 - val_loss: 0.6920 - val_acc: 0.7525 - val_mae: 0.2344\n",
      "Epoch 6/20\n",
      "379/379 [==============================] - 38s 100ms/step - loss: 0.5752 - acc: 0.8166 - mae: 0.1966 - val_loss: 0.6810 - val_acc: 0.7600 - val_mae: 0.2260\n",
      "Epoch 7/20\n",
      "379/379 [==============================] - 38s 101ms/step - loss: 0.5302 - acc: 0.8402 - mae: 0.1751 - val_loss: 0.6447 - val_acc: 0.7820 - val_mae: 0.2004\n",
      "Epoch 8/20\n",
      "379/379 [==============================] - 38s 100ms/step - loss: 0.4911 - acc: 0.8536 - mae: 0.1589 - val_loss: 0.6172 - val_acc: 0.7989 - val_mae: 0.1814\n",
      "Epoch 9/20\n",
      "379/379 [==============================] - 39s 102ms/step - loss: 0.4483 - acc: 0.8699 - mae: 0.1399 - val_loss: 0.5868 - val_acc: 0.8126 - val_mae: 0.1679\n",
      "Epoch 10/20\n",
      "379/379 [==============================] - 38s 101ms/step - loss: 0.4071 - acc: 0.8847 - mae: 0.1237 - val_loss: 0.5434 - val_acc: 0.8271 - val_mae: 0.1598\n",
      "Epoch 11/20\n",
      "379/379 [==============================] - 38s 100ms/step - loss: 0.3792 - acc: 0.8933 - mae: 0.1135 - val_loss: 0.5244 - val_acc: 0.8392 - val_mae: 0.1452\n",
      "Epoch 12/20\n",
      "379/379 [==============================] - 38s 100ms/step - loss: 0.3520 - acc: 0.9037 - mae: 0.1037 - val_loss: 0.5067 - val_acc: 0.8436 - val_mae: 0.1401\n",
      "Epoch 13/20\n",
      "379/379 [==============================] - 38s 100ms/step - loss: 0.3326 - acc: 0.9089 - mae: 0.0974 - val_loss: 0.5290 - val_acc: 0.8374 - val_mae: 0.1398\n",
      "Epoch 14/20\n",
      "379/379 [==============================] - 38s 100ms/step - loss: 0.3200 - acc: 0.9125 - mae: 0.0934 - val_loss: 0.5008 - val_acc: 0.8463 - val_mae: 0.1335\n",
      "Epoch 15/20\n",
      "379/379 [==============================] - 38s 100ms/step - loss: 0.3033 - acc: 0.9169 - mae: 0.0884 - val_loss: 0.4793 - val_acc: 0.8515 - val_mae: 0.1270\n",
      "Epoch 16/20\n",
      "379/379 [==============================] - 38s 100ms/step - loss: 0.2925 - acc: 0.9186 - mae: 0.0850 - val_loss: 0.4963 - val_acc: 0.8436 - val_mae: 0.1317\n",
      "Epoch 17/20\n",
      "379/379 [==============================] - 38s 100ms/step - loss: 0.2894 - acc: 0.9199 - mae: 0.0840 - val_loss: 0.4744 - val_acc: 0.8513 - val_mae: 0.1265\n",
      "Epoch 18/20\n",
      "379/379 [==============================] - 38s 100ms/step - loss: 0.3192 - acc: 0.9106 - mae: 0.0940 - val_loss: 0.4965 - val_acc: 0.8523 - val_mae: 0.1264\n",
      "Epoch 19/20\n",
      "379/379 [==============================] - 39s 102ms/step - loss: 0.2769 - acc: 0.9239 - mae: 0.0797 - val_loss: 0.4655 - val_acc: 0.8566 - val_mae: 0.1227\n",
      "Epoch 20/20\n",
      "379/379 [==============================] - 38s 101ms/step - loss: 0.2631 - acc: 0.9270 - mae: 0.0764 - val_loss: 0.4852 - val_acc: 0.8534 - val_mae: 0.1207\n"
     ]
    }
   ],
   "source": [
    "model_RNN.set_weights(model_RNN_initial_weights)\n",
    "# Train the model on the preprocessed training data and validate it using the validation data\n",
    "model_RNN_history = model_RNN.fit(X_train,y_train,epochs=20,validation_data=(X_val, y_val), batch_size = 128,callbacks=[checkpoint,early_stop])"
   ]
  },
  {
   "cell_type": "code",
   "execution_count": 26,
   "id": "f6a35b4b",
   "metadata": {},
   "outputs": [
    {
     "name": "stdout",
     "output_type": "stream",
     "text": [
      "379/379 [==============================] - 3s 7ms/step - loss: 0.4852 - acc: 0.8534 - mae: 0.1207\n",
      "Validation Loss: 0.48518919944763184\n",
      "Validation Accuracy: 0.8534126877784729 \n",
      "\n",
      "20/20 [==============================] - 0s 7ms/step - loss: 0.5210 - acc: 0.8431 - mae: 0.1215\n",
      "Test Loss: 0.5209800601005554\n",
      "Test Accuracy: 0.843137264251709 \n",
      "\n",
      "20/20 [==============================] - 0s 5ms/step\n",
      "              precision    recall  f1-score   support\n",
      "\n",
      "           0       0.92      0.83      0.88       220\n",
      "           1       0.77      0.87      0.82       193\n",
      "           2       0.84      0.83      0.84       199\n",
      "\n",
      "    accuracy                           0.84       612\n",
      "   macro avg       0.85      0.84      0.84       612\n",
      "weighted avg       0.85      0.84      0.84       612\n",
      "\n"
     ]
    },
    {
     "data": {
      "image/png": "[encoded data removed]",
      "text/plain": [
       "<Figure size 432x288 with 2 Axes>"
      ]
     },
     "metadata": {
      "needs_background": "light"
     },
     "output_type": "display_data"
    }
   ],
   "source": [
    "evaluate_model(model_RNN, X_val, y_val, X_test, y_test)"
   ]
  },
  {
   "cell_type": "code",
   "execution_count": 27,
   "id": "6aa540a4",
   "metadata": {},
   "outputs": [
    {
     "data": {
      "image/png": "[encoded data removed]",
      "text/plain": [
       "<Figure size 432x288 with 1 Axes>"
      ]
     },
     "metadata": {
      "needs_background": "light"
     },
     "output_type": "display_data"
    }
   ],
   "source": [
    "plot_validation_mae(model_RNN_history)"
   ]
  },
  {
   "cell_type": "code",
   "execution_count": 28,
   "id": "4a7b849d",
   "metadata": {},
   "outputs": [
    {
     "data": {
      "image/png": "[encoded data removed]",
      "text/plain": [
       "<Figure size 432x288 with 1 Axes>"
      ]
     },
     "metadata": {
      "needs_background": "light"
     },
     "output_type": "display_data"
    }
   ],
   "source": [
    "smooth_mae_history = smooth_curve(model_RNN_history.history['val_mae'][10:])\n",
    "plt.plot(range(1, len(smooth_mae_history) + 1), smooth_mae_history)\n",
    "plt.xlabel('Epochs')\n",
    "plt.ylabel('Validation MAE')\n",
    "plt.show()"
   ]
  },
  {
   "cell_type": "code",
   "execution_count": 29,
   "id": "38e5975d",
   "metadata": {},
   "outputs": [
    {
     "data": {
      "image/png": "[encoded data removed]",
      "text/plain": [
       "<Figure size 432x288 with 2 Axes>"
      ]
     },
     "metadata": {
      "needs_background": "light"
     },
     "output_type": "display_data"
    }
   ],
   "source": [
    "plot_history(model_RNN_history)"
   ]
  },
  {
   "cell_type": "code",
   "execution_count": 30,
   "id": "30da1663",
   "metadata": {},
   "outputs": [
    {
     "name": "stdout",
     "output_type": "stream",
     "text": [
      "505/505 [==============================] - 3s 7ms/step - loss: 0.2644 - acc: 0.9229 - mae: 0.0750\n",
      "505/505 [==============================] - 4s 7ms/step - loss: 0.2447 - acc: 0.9295 - mae: 0.0711\n",
      "505/505 [==============================] - 4s 7ms/step - loss: 0.2297 - acc: 0.9284 - mae: 0.0672\n",
      "Cross-validation results: [0.9229053258895874, 0.9294744729995728, 0.9283545017242432]\n",
      "Average accuracy: 0.9269114335378011\n",
      "20/20 [==============================] - 0s 7ms/step - loss: 0.5120 - acc: 0.8562 - mae: 0.1148\n",
      "Test set accuracy: 0.8562091588973999\n"
     ]
    }
   ],
   "source": [
    "evaluate_model_with_kfold(X_train, y_train, X_test, y_test, model_RNN)"
   ]
  },
  {
   "cell_type": "markdown",
   "id": "2e29403a",
   "metadata": {},
   "source": [
    "# LSTM Model\n",
    "\n",
    "Defines an LSTM model with an embedding layer and multiple dense layers, compiles it with an optimizer, loss function, and evaluation metrics, trains it, generates plots of its training and validation performance over epochs, and evaluates its performance on the validation and testing data. The purpose of training and evaluating the LSTM model is to determine if it can outperform the previous RNN model on the sentiment classification task. The classification report and confusion matrix provide additional metrics for evaluating the model's performance on different classes of sentiment."
   ]
  },
  {
   "cell_type": "code",
   "execution_count": 31,
   "id": "f5a7ae2f",
   "metadata": {},
   "outputs": [
    {
     "name": "stdout",
     "output_type": "stream",
     "text": [
      "Model: \"sequential_2\"\n",
      "_________________________________________________________________\n",
      " Layer (type)                Output Shape              Param #   \n",
      "=================================================================\n",
      " embedding_2 (Embedding)     (None, 40, 50)            1519900   \n",
      "                                                                 \n",
      " lstm (LSTM)                 (None, 100)               60400     \n",
      "                                                                 \n",
      " dense_4 (Dense)             (None, 64)                6464      \n",
      "                                                                 \n",
      " dense_5 (Dense)             (None, 32)                2080      \n",
      "                                                                 \n",
      " dense_6 (Dense)             (None, 3)                 99        \n",
      "                                                                 \n",
      "=================================================================\n",
      "Total params: 1,588,943\n",
      "Trainable params: 1,588,943\n",
      "Non-trainable params: 0\n",
      "_________________________________________________________________\n",
      "None\n"
     ]
    }
   ],
   "source": [
    "# Define an LSTM model architecture\n",
    "model_LSTM = Sequential()\n",
    "model_LSTM.add(Embedding(int(most_word_num),50,input_length = X_train.shape[1]))\n",
    "model_LSTM.add(LSTM(100, dropout = 0.2, recurrent_dropout = 0.2,kernel_regularizer=regularizers.l2(0.02)))\n",
    "model_LSTM.add(Dense(64, activation='relu',kernel_regularizer=regularizers.l2(0.02)))\n",
    "model_LSTM.add(Dense(32,activation='relu',kernel_regularizer=regularizers.l2(0.02)))\n",
    "model_LSTM.add(Dense(3,activation='softmax'))\n",
    "# Compile the LSTM model with an optimizer, loss function, and evaluation metrics\n",
    "\n",
    "model_LSTM.compile(optimizer=Adam(learning_rate=0.0005), loss='categorical_crossentropy', metrics=['acc', 'mae'])\n",
    "# Print a summary of the LSTM model architecture\n",
    "model_LSTM_initial_weights = model_LSTM.get_weights()\n",
    "print(model_LSTM.summary())"
   ]
  },
  {
   "cell_type": "code",
   "execution_count": 32,
   "id": "36f9b15d",
   "metadata": {},
   "outputs": [
    {
     "name": "stdout",
     "output_type": "stream",
     "text": [
      "Epoch 1/20\n",
      "379/379 [==============================] - 50s 124ms/step - loss: 2.1419 - acc: 0.4588 - mae: 0.4181 - val_loss: 1.0599 - val_acc: 0.5935 - val_mae: 0.3726\n",
      "Epoch 2/20\n",
      "379/379 [==============================] - 47s 124ms/step - loss: 0.8496 - acc: 0.6893 - mae: 0.2963 - val_loss: 0.7472 - val_acc: 0.7384 - val_mae: 0.2590\n",
      "Epoch 3/20\n",
      "379/379 [==============================] - 45s 119ms/step - loss: 0.6389 - acc: 0.7933 - mae: 0.2117 - val_loss: 0.6652 - val_acc: 0.7728 - val_mae: 0.2275\n",
      "Epoch 4/20\n",
      "379/379 [==============================] - 44s 117ms/step - loss: 0.5345 - acc: 0.8370 - mae: 0.1694 - val_loss: 0.6027 - val_acc: 0.8105 - val_mae: 0.2031\n",
      "Epoch 5/20\n",
      "379/379 [==============================] - 44s 116ms/step - loss: 0.4723 - acc: 0.8648 - mae: 0.1450 - val_loss: 0.5719 - val_acc: 0.8216 - val_mae: 0.1613\n",
      "Epoch 6/20\n",
      "379/379 [==============================] - 44s 117ms/step - loss: 0.4274 - acc: 0.8816 - mae: 0.1278 - val_loss: 0.5418 - val_acc: 0.8285 - val_mae: 0.1642\n",
      "Epoch 7/20\n",
      "379/379 [==============================] - 44s 116ms/step - loss: 0.3936 - acc: 0.8924 - mae: 0.1166 - val_loss: 0.5016 - val_acc: 0.8472 - val_mae: 0.1497\n",
      "Epoch 8/20\n",
      "379/379 [==============================] - 44s 116ms/step - loss: 0.3727 - acc: 0.8985 - mae: 0.1098 - val_loss: 0.4939 - val_acc: 0.8499 - val_mae: 0.1387\n",
      "Epoch 9/20\n",
      "379/379 [==============================] - 45s 119ms/step - loss: 0.3514 - acc: 0.9053 - mae: 0.1026 - val_loss: 0.4811 - val_acc: 0.8566 - val_mae: 0.1333\n",
      "Epoch 10/20\n",
      "379/379 [==============================] - 44s 117ms/step - loss: 0.3289 - acc: 0.9116 - mae: 0.0957 - val_loss: 0.5042 - val_acc: 0.8526 - val_mae: 0.1273\n",
      "Epoch 11/20\n",
      "379/379 [==============================] - 45s 118ms/step - loss: 0.3185 - acc: 0.9148 - mae: 0.0925 - val_loss: 0.4683 - val_acc: 0.8592 - val_mae: 0.1303\n",
      "Epoch 12/20\n",
      "379/379 [==============================] - 44s 117ms/step - loss: 0.3067 - acc: 0.9191 - mae: 0.0886 - val_loss: 0.4781 - val_acc: 0.8613 - val_mae: 0.1268\n",
      "Epoch 13/20\n",
      "379/379 [==============================] - 45s 119ms/step - loss: 0.2959 - acc: 0.9207 - mae: 0.0854 - val_loss: 0.4663 - val_acc: 0.8590 - val_mae: 0.1274\n",
      "Epoch 14/20\n",
      "379/379 [==============================] - 45s 118ms/step - loss: 0.2888 - acc: 0.9232 - mae: 0.0838 - val_loss: 0.4608 - val_acc: 0.8632 - val_mae: 0.1231\n",
      "Epoch 15/20\n",
      "379/379 [==============================] - 45s 118ms/step - loss: 0.2807 - acc: 0.9245 - mae: 0.0812 - val_loss: 0.4749 - val_acc: 0.8524 - val_mae: 0.1263\n",
      "Epoch 16/20\n",
      "379/379 [==============================] - 45s 117ms/step - loss: 0.2746 - acc: 0.9262 - mae: 0.0795 - val_loss: 0.4734 - val_acc: 0.8603 - val_mae: 0.1225\n",
      "Epoch 17/20\n",
      "379/379 [==============================] - 45s 119ms/step - loss: 0.2658 - acc: 0.9272 - mae: 0.0768 - val_loss: 0.4554 - val_acc: 0.8654 - val_mae: 0.1177\n",
      "Epoch 18/20\n",
      "379/379 [==============================] - 45s 118ms/step - loss: 0.2620 - acc: 0.9300 - mae: 0.0759 - val_loss: 0.4617 - val_acc: 0.8598 - val_mae: 0.1256\n",
      "Epoch 19/20\n",
      "379/379 [==============================] - 45s 118ms/step - loss: 0.2548 - acc: 0.9313 - mae: 0.0736 - val_loss: 0.4537 - val_acc: 0.8604 - val_mae: 0.1206\n",
      "Epoch 20/20\n",
      "379/379 [==============================] - 44s 117ms/step - loss: 0.2509 - acc: 0.9322 - mae: 0.0727 - val_loss: 0.4636 - val_acc: 0.8637 - val_mae: 0.1180\n"
     ]
    }
   ],
   "source": [
    "model_LSTM.set_weights(model_LSTM_initial_weights)\n",
    "# Train the LSTM model and store the history of training in a variable\n",
    "model_LSTM_history = model_LSTM.fit(X_train,y_train,epochs=20,validation_data=(X_val, y_val), batch_size = 128,callbacks=[checkpoint,early_stop])"
   ]
  },
  {
   "cell_type": "code",
   "execution_count": 33,
   "id": "2a06d0d3",
   "metadata": {},
   "outputs": [
    {
     "data": {
      "image/png": "[encoded data removed]",
      "text/plain": [
       "<Figure size 432x288 with 1 Axes>"
      ]
     },
     "metadata": {
      "needs_background": "light"
     },
     "output_type": "display_data"
    }
   ],
   "source": [
    "plot_validation_mae(model_LSTM_history)"
   ]
  },
  {
   "cell_type": "code",
   "execution_count": 34,
   "id": "5e954ebd",
   "metadata": {},
   "outputs": [
    {
     "data": {
      "image/png": "[encoded data removed]",
      "text/plain": [
       "<Figure size 432x288 with 1 Axes>"
      ]
     },
     "metadata": {
      "needs_background": "light"
     },
     "output_type": "display_data"
    }
   ],
   "source": [
    "smooth_mae_history = smooth_curve(model_LSTM_history.history['val_mae'][10:])\n",
    "plt.plot(range(1, len(smooth_mae_history) + 1), smooth_mae_history)\n",
    "plt.xlabel('Epochs')\n",
    "plt.ylabel('Validation MAE')\n",
    "plt.show()"
   ]
  },
  {
   "cell_type": "code",
   "execution_count": 35,
   "id": "fc39f415",
   "metadata": {},
   "outputs": [
    {
     "data": {
      "image/png": "[encoded data removed]",
      "text/plain": [
       "<Figure size 432x288 with 2 Axes>"
      ]
     },
     "metadata": {
      "needs_background": "light"
     },
     "output_type": "display_data"
    }
   ],
   "source": [
    "# Generate plots of the LSTM model's training and validation performance over epochs\n",
    "plot_history(model_LSTM_history)"
   ]
  },
  {
   "cell_type": "code",
   "execution_count": 78,
   "id": "57b3e395",
   "metadata": {
    "scrolled": true
   },
   "outputs": [
    {
     "name": "stdout",
     "output_type": "stream",
     "text": [
      "379/379 [==============================] - 21s 56ms/step - loss: 0.4884 - acc: 0.8633 - mae: 0.1081\n",
      "Validation Loss: 0.48835423588752747\n",
      "Validation Accuracy: 0.8633283972740173 \n",
      "\n",
      "20/20 [==============================] - 1s 57ms/step - loss: 0.5413 - acc: 0.8595 - mae: 0.1104\n",
      "Test Loss: 0.541276216506958\n",
      "Test Accuracy: 0.8594771027565002 \n",
      "\n",
      "20/20 [==============================] - 1s 54ms/step\n",
      "              precision    recall  f1-score   support\n",
      "\n",
      "           0       0.86      0.89      0.88       220\n",
      "           1       0.87      0.84      0.85       193\n",
      "           2       0.85      0.84      0.85       199\n",
      "\n",
      "    accuracy                           0.86       612\n",
      "   macro avg       0.86      0.86      0.86       612\n",
      "weighted avg       0.86      0.86      0.86       612\n",
      "\n"
     ]
    },
    {
     "data": {
      "image/png": "[encoded data removed]",
      "text/plain": [
       "<Figure size 432x288 with 2 Axes>"
      ]
     },
     "metadata": {
      "needs_background": "light"
     },
     "output_type": "display_data"
    }
   ],
   "source": [
    "# Evaluate the LSTM model's performance on the validation and testing data\n",
    "evaluate_model(model_LSTM, X_val, y_val, X_test, y_test)"
   ]
  },
  {
   "cell_type": "code",
   "execution_count": 37,
   "id": "16e31980",
   "metadata": {},
   "outputs": [
    {
     "name": "stdout",
     "output_type": "stream",
     "text": [
      "505/505 [==============================] - 5s 9ms/step - loss: 0.2826 - acc: 0.9157 - mae: 0.0842\n",
      "505/505 [==============================] - 5s 9ms/step - loss: 0.2590 - acc: 0.9224 - mae: 0.0707\n",
      "505/505 [==============================] - 5s 9ms/step - loss: 0.2230 - acc: 0.9298 - mae: 0.0643\n",
      "Cross-validation results: [0.9157164096832275, 0.9224095344543457, 0.9297800064086914]\n",
      "Average accuracy: 0.9226353168487549\n",
      "20/20 [==============================] - 0s 9ms/step - loss: 0.5413 - acc: 0.8595 - mae: 0.1104\n",
      "Test set accuracy: 0.8594771027565002\n"
     ]
    }
   ],
   "source": [
    "evaluate_model_with_kfold(X_train, y_train, X_test, y_test, model_LSTM)"
   ]
  },
  {
   "cell_type": "markdown",
   "id": "ea18cba2",
   "metadata": {},
   "source": [
    "# Two-layer RNN+LSTM model\n",
    "\n",
    "Defines a two-layer RNN+LSTM model with an embedding layer and multiple dense layers, compiles it with an optimizer, loss function, and evaluation metrics, trains it, generates plots of its training and validation performance over epochs, and evaluates its performance on the validation and testing data. The purpose of training and evaluating the two-layer RNN+LSTM model is to determine if it can outperform the previous RNN and LSTM models on the sentiment classification task. The classification report and confusion matrix provide additional metrics for evaluating the model's performance on different classes of sentiment."
   ]
  },
  {
   "cell_type": "code",
   "execution_count": 38,
   "id": "de554a1f",
   "metadata": {},
   "outputs": [
    {
     "name": "stdout",
     "output_type": "stream",
     "text": [
      "Model: \"sequential_3\"\n",
      "_________________________________________________________________\n",
      " Layer (type)                Output Shape              Param #   \n",
      "=================================================================\n",
      " embedding_3 (Embedding)     (None, 40, 50)            1519900   \n",
      "                                                                 \n",
      " bidirectional (Bidirectiona  (None, 40, 200)          91200     \n",
      " l)                                                              \n",
      "                                                                 \n",
      " lstm_1 (LSTM)               (None, 64)                67840     \n",
      "                                                                 \n",
      " dense_7 (Dense)             (None, 64)                4160      \n",
      "                                                                 \n",
      " dense_8 (Dense)             (None, 32)                2080      \n",
      "                                                                 \n",
      " dense_9 (Dense)             (None, 3)                 99        \n",
      "                                                                 \n",
      "=================================================================\n",
      "Total params: 1,685,279\n",
      "Trainable params: 1,685,279\n",
      "Non-trainable params: 0\n",
      "_________________________________________________________________\n",
      "None\n"
     ]
    }
   ],
   "source": [
    "# Define a two-layer RNN+LSTM model architecture\n",
    "model_RNN_LSTM = Sequential()\n",
    "model_RNN_LSTM.add(Embedding(int(most_word_num),50,input_length = X_train.shape[1]))\n",
    "model_RNN_LSTM.add(Bidirectional(GRU(units=100, dropout=0.2, recurrent_dropout=0.2, return_sequences=True)))\n",
    "model_RNN_LSTM.add(LSTM(64, dropout = 0.2, recurrent_dropout = 0.2,kernel_regularizer=regularizers.l2(0.02)))\n",
    "model_RNN_LSTM.add(Dense(64, activation='relu',kernel_regularizer=regularizers.l2(0.02)))\n",
    "model_RNN_LSTM.add(Dense(32,activation='relu',kernel_regularizer=regularizers.l2(0.02)))\n",
    "model_RNN_LSTM.add(Dense(3,activation='softmax'))\n",
    "# Compile the two-layer RNN+LSTM model with an optimizer, loss function, and evaluation metrics\n",
    "model_RNN_LSTM.compile(optimizer=Adam(learning_rate=0.0005), loss='categorical_crossentropy', metrics=['acc', 'mae'])\n",
    "model_RNN_LSTM_initial_weights = model_RNN_LSTM.get_weights()\n",
    "# Print a summary of the two-layer RNN+LSTM model architecture\n",
    "\n",
    "print(model_RNN_LSTM.summary())"
   ]
  },
  {
   "cell_type": "code",
   "execution_count": 39,
   "id": "5bf3f226",
   "metadata": {},
   "outputs": [
    {
     "name": "stdout",
     "output_type": "stream",
     "text": [
      "Epoch 1/20\n",
      "379/379 [==============================] - 129s 325ms/step - loss: 2.5348 - acc: 0.5393 - mae: 0.3815 - val_loss: 0.9642 - val_acc: 0.6922 - val_mae: 0.3076\n",
      "Epoch 2/20\n",
      "379/379 [==============================] - 121s 320ms/step - loss: 0.7384 - acc: 0.7590 - mae: 0.2426 - val_loss: 0.6595 - val_acc: 0.7770 - val_mae: 0.2200\n",
      "Epoch 3/20\n",
      "379/379 [==============================] - 123s 324ms/step - loss: 0.4997 - acc: 0.8451 - mae: 0.1614 - val_loss: 0.5262 - val_acc: 0.8251 - val_mae: 0.1621\n",
      "Epoch 4/20\n",
      "379/379 [==============================] - 124s 326ms/step - loss: 0.3905 - acc: 0.8810 - mae: 0.1218 - val_loss: 0.5008 - val_acc: 0.8383 - val_mae: 0.1402\n",
      "Epoch 5/20\n",
      "379/379 [==============================] - 125s 331ms/step - loss: 0.3370 - acc: 0.8990 - mae: 0.1036 - val_loss: 0.4552 - val_acc: 0.8507 - val_mae: 0.1273\n",
      "Epoch 6/20\n",
      "379/379 [==============================] - 125s 329ms/step - loss: 0.2971 - acc: 0.9108 - mae: 0.0905 - val_loss: 0.4473 - val_acc: 0.8547 - val_mae: 0.1255\n",
      "Epoch 7/20\n",
      "379/379 [==============================] - 124s 328ms/step - loss: 0.2704 - acc: 0.9190 - mae: 0.0815 - val_loss: 0.4228 - val_acc: 0.8579 - val_mae: 0.1234\n",
      "Epoch 8/20\n",
      "379/379 [==============================] - 124s 328ms/step - loss: 0.2476 - acc: 0.9252 - mae: 0.0748 - val_loss: 0.4683 - val_acc: 0.8589 - val_mae: 0.1123\n",
      "Epoch 9/20\n",
      "379/379 [==============================] - 125s 331ms/step - loss: 0.2396 - acc: 0.9261 - mae: 0.0726 - val_loss: 0.4154 - val_acc: 0.8641 - val_mae: 0.1114\n",
      "Epoch 10/20\n",
      "379/379 [==============================] - 124s 327ms/step - loss: 0.2243 - acc: 0.9304 - mae: 0.0676 - val_loss: 0.4371 - val_acc: 0.8634 - val_mae: 0.1067\n",
      "Epoch 11/20\n",
      "379/379 [==============================] - 125s 330ms/step - loss: 0.2139 - acc: 0.9338 - mae: 0.0647 - val_loss: 0.4414 - val_acc: 0.8682 - val_mae: 0.1052\n",
      "Epoch 12/20\n",
      "379/379 [==============================] - 125s 331ms/step - loss: 0.2074 - acc: 0.9353 - mae: 0.0626 - val_loss: 0.4148 - val_acc: 0.8712 - val_mae: 0.1051\n",
      "Epoch 13/20\n",
      "379/379 [==============================] - 125s 329ms/step - loss: 0.1935 - acc: 0.9399 - mae: 0.0587 - val_loss: 0.4512 - val_acc: 0.8677 - val_mae: 0.1019\n",
      "Epoch 14/20\n",
      "379/379 [==============================] - 126s 333ms/step - loss: 0.1892 - acc: 0.9415 - mae: 0.0570 - val_loss: 0.4340 - val_acc: 0.8693 - val_mae: 0.1008\n",
      "Epoch 15/20\n",
      "379/379 [==============================] - 128s 338ms/step - loss: 0.1816 - acc: 0.9430 - mae: 0.0550 - val_loss: 0.4212 - val_acc: 0.8698 - val_mae: 0.0999\n",
      "Epoch 16/20\n",
      "379/379 [==============================] - 125s 329ms/step - loss: 0.1743 - acc: 0.9448 - mae: 0.0527 - val_loss: 0.4113 - val_acc: 0.8669 - val_mae: 0.1036\n",
      "Epoch 17/20\n",
      "379/379 [==============================] - 126s 331ms/step - loss: 0.1729 - acc: 0.9448 - mae: 0.0525 - val_loss: 0.4406 - val_acc: 0.8709 - val_mae: 0.1010\n",
      "Epoch 18/20\n",
      "379/379 [==============================] - 125s 330ms/step - loss: 0.1679 - acc: 0.9468 - mae: 0.0509 - val_loss: 0.4218 - val_acc: 0.8731 - val_mae: 0.1010\n",
      "Epoch 19/20\n",
      "379/379 [==============================] - 126s 332ms/step - loss: 0.1635 - acc: 0.9470 - mae: 0.0500 - val_loss: 0.4451 - val_acc: 0.8690 - val_mae: 0.1000\n",
      "Epoch 20/20\n",
      "379/379 [==============================] - 129s 341ms/step - loss: 0.1570 - acc: 0.9488 - mae: 0.0479 - val_loss: 0.4216 - val_acc: 0.8770 - val_mae: 0.0951\n"
     ]
    }
   ],
   "source": [
    "model_RNN_LSTM_initial_weights = model_RNN_LSTM.get_weights()\n",
    "# Train the two-layer RNN+LSTM model and store the history of training in a variable\n",
    "model_RNN_LSTM_history = model_RNN_LSTM.fit(X_train,y_train,epochs=20,validation_data=(X_val, y_val), batch_size = 128,callbacks=[checkpoint,early_stop])"
   ]
  },
  {
   "cell_type": "code",
   "execution_count": 40,
   "id": "57621944",
   "metadata": {},
   "outputs": [
    {
     "data": {
      "image/png": "[encoded data removed]",
      "text/plain": [
       "<Figure size 432x288 with 1 Axes>"
      ]
     },
     "metadata": {
      "needs_background": "light"
     },
     "output_type": "display_data"
    }
   ],
   "source": [
    "plot_validation_mae(model_RNN_LSTM_history)"
   ]
  },
  {
   "cell_type": "code",
   "execution_count": 41,
   "id": "710579d3",
   "metadata": {},
   "outputs": [
    {
     "data": {
      "image/png": "[encoded data removed]",
      "text/plain": [
       "<Figure size 432x288 with 1 Axes>"
      ]
     },
     "metadata": {
      "needs_background": "light"
     },
     "output_type": "display_data"
    }
   ],
   "source": [
    "smooth_mae_history = smooth_curve(model_RNN_LSTM_history.history['val_mae'][10:])\n",
    "plt.plot(range(1, len(smooth_mae_history) + 1), smooth_mae_history)\n",
    "plt.xlabel('Epochs')\n",
    "plt.ylabel('Validation MAE')\n",
    "plt.show()"
   ]
  },
  {
   "cell_type": "code",
   "execution_count": 42,
   "id": "636f6428",
   "metadata": {},
   "outputs": [
    {
     "data": {
      "image/png": "[encoded data removed]",
      "text/plain": [
       "<Figure size 432x288 with 2 Axes>"
      ]
     },
     "metadata": {
      "needs_background": "light"
     },
     "output_type": "display_data"
    }
   ],
   "source": [
    "# Generate plots of the two-layer RNN+LSTM model's training and validation performance over epochs\n",
    "plot_history(model_RNN_LSTM_history)"
   ]
  },
  {
   "cell_type": "code",
   "execution_count": 43,
   "id": "4bd0f284",
   "metadata": {},
   "outputs": [
    {
     "name": "stdout",
     "output_type": "stream",
     "text": [
      "379/379 [==============================] - 10s 26ms/step - loss: 0.4216 - acc: 0.8770 - mae: 0.0951\n",
      "Validation Loss: 0.4215690493583679\n",
      "Validation Accuracy: 0.8769624829292297 \n",
      "\n",
      "20/20 [==============================] - 1s 25ms/step - loss: 0.3823 - acc: 0.8824 - mae: 0.0870\n",
      "Test Loss: 0.3822503387928009\n",
      "Test Accuracy: 0.8823529481887817 \n",
      "\n",
      "20/20 [==============================] - 1s 22ms/step\n",
      "              precision    recall  f1-score   support\n",
      "\n",
      "           0       0.88      0.89      0.89       220\n",
      "           1       0.93      0.87      0.90       193\n",
      "           2       0.84      0.89      0.86       199\n",
      "\n",
      "    accuracy                           0.88       612\n",
      "   macro avg       0.88      0.88      0.88       612\n",
      "weighted avg       0.88      0.88      0.88       612\n",
      "\n"
     ]
    },
    {
     "data": {
      "image/png": "[encoded data removed]",
      "text/plain": [
       "<Figure size 432x288 with 2 Axes>"
      ]
     },
     "metadata": {
      "needs_background": "light"
     },
     "output_type": "display_data"
    }
   ],
   "source": [
    "# Evaluate the two-layer RNN+LSTM model's performance on the validation and testing data\n",
    "evaluate_model(model_RNN_LSTM, X_val, y_val, X_test, y_test)"
   ]
  },
  {
   "cell_type": "code",
   "execution_count": 44,
   "id": "6793dfbc",
   "metadata": {},
   "outputs": [
    {
     "name": "stdout",
     "output_type": "stream",
     "text": [
      "505/505 [==============================] - 18s 36ms/step - loss: 0.1664 - acc: 0.9427 - mae: 0.0483\n",
      "505/505 [==============================] - 17s 33ms/step - loss: 0.1633 - acc: 0.9435 - mae: 0.0461\n",
      "505/505 [==============================] - 17s 34ms/step - loss: 0.1356 - acc: 0.9509 - mae: 0.0433\n",
      "Cross-validation results: [0.9427367448806763, 0.9434804320335388, 0.9508521556854248]\n",
      "Average accuracy: 0.9456897775332133\n",
      "20/20 [==============================] - 1s 34ms/step - loss: 0.3466 - acc: 0.8905 - mae: 0.0836\n",
      "Test set accuracy: 0.8905228972434998\n"
     ]
    }
   ],
   "source": [
    "evaluate_model_with_kfold(X_train, y_train,X_test, y_test, model_RNN_LSTM)"
   ]
  },
  {
   "cell_type": "markdown",
   "id": "97e81bc2",
   "metadata": {},
   "source": [
    "# Regularizing best model and tuning hyperparameters"
   ]
  },
  {
   "cell_type": "code",
   "execution_count": 45,
   "id": "ca71eafb",
   "metadata": {},
   "outputs": [],
   "source": [
    "from sklearn.model_selection import StratifiedKFold\n",
    "import keras\n",
    "import tensorflow\n",
    "import itertools\n",
    "import matplotlib.pyplot as plt"
   ]
  },
  {
   "cell_type": "markdown",
   "id": "3ad15ab7",
   "metadata": {},
   "source": [
    "### cross_validation\n",
    "This code defines a function called cross_validation that performs k-fold cross-validation on a given model. It takes in the model, data, class weights, hyperparameters, number of folds, number of epochs, and callbacks as inputs. The function uses KFold from scikit-learn to split the data into k partitions and then trains and evaluates the model on each partition. The function returns the mean of the evaluation metrics across all the folds."
   ]
  },
  {
   "cell_type": "code",
   "execution_count": 50,
   "id": "04f021a7",
   "metadata": {},
   "outputs": [],
   "source": [
    "def cross_validation(model, X, y, class_weight, params, kfolds, epochs, callbacks, seed=0):\n",
    "    evaluations = []\n",
    "    for train, validate in kfolds.split(X, y.argmax(axis=1)):\n",
    "        model_copy = keras.models.clone_model(model)      \n",
    "        model_copy.compile(optimizer=Adam(learning_rate=params['learning_rate']), \n",
    "                      loss=\"categorical_crossentropy\", \n",
    "                      metrics=['categorical_accuracy', 'Precision', 'Recall','AUC'])\n",
    "\n",
    "        history = model_copy.fit(X[train], y[train],\n",
    "                                 class_weight=class_weight,\n",
    "                                 batch_size=128, \n",
    "                                 epochs=epochs, \n",
    "                                 validation_data=(X[validate], y[validate]),\n",
    "                                 callbacks=callbacks,\n",
    "                                 verbose=1)\n",
    "\n",
    "        evaluation = model_copy.evaluate(X_val, y_val, verbose=0)[1:]\n",
    "        evaluations.append(evaluation)\n",
    "\n",
    "    return np.mean(evaluations, axis=0)\n"
   ]
  },
  {
   "cell_type": "markdown",
   "id": "c5e6c3fa",
   "metadata": {},
   "source": [
    "### grid_search_cv\n",
    "This code defines a function grid_search_cv that performs a grid search on a given model using cross-validation. The function takes as input the model, the data X and y, class weights for balancing class distribution, a search space of hyperparameters to be tuned, the number of folds for cross-validation cv, the number of epochs, and callbacks.\n",
    "\n",
    "The function first creates a k-fold cross-validation object kfolds using StratifiedKFold from scikit-learn. It then initializes an empty dictionary stats to store the evaluation metrics of each combination of hyperparameters. For each combination of hyperparameters, it calls the cross_validation function to perform k-fold cross-validation with the given hyperparameters, and stores the evaluation metrics in the stats dictionary.\n",
    "\n",
    "Finally, the function returns the stats dictionary with the mean of the evaluation metrics across all the folds for each combination of hyperparameters."
   ]
  },
  {
   "cell_type": "code",
   "execution_count": 52,
   "id": "5c2ecfe8",
   "metadata": {},
   "outputs": [],
   "source": [
    "def grid_search_cv(model,X, y,\n",
    "                   class_weight,\n",
    "                   search_space, cv,\n",
    "                   epochs, callbacks=[], seed=0) :\n",
    "    \n",
    "    keys, values = zip(*search_space.items())\n",
    "    kfolds = StratifiedKFold(n_splits=cv, shuffle=True, random_state=seed)\n",
    "    stats = {}\n",
    "    for params in [dict(zip(keys, v)) for v in itertools.product(*values)] :\n",
    "        \n",
    "        scores = cross_validation(model,X, y, class_weight,\n",
    "                                  params, kfolds, epochs,\n",
    "                                  callbacks, seed)\n",
    "        \n",
    "        stats[str(params)] = scores\n",
    "    \n",
    "    return stats"
   ]
  },
  {
   "cell_type": "code",
   "execution_count": 53,
   "id": "6c325813",
   "metadata": {},
   "outputs": [],
   "source": [
    "params = {\n",
    "    'learning_rate': [0.0001, 0.0005],\n",
    "}\n"
   ]
  },
  {
   "cell_type": "code",
   "execution_count": 54,
   "id": "ef9d9dc1",
   "metadata": {},
   "outputs": [
    {
     "name": "stdout",
     "output_type": "stream",
     "text": [
      "Epoch 1/30\n",
      "253/253 [==============================] - 103s 385ms/step - loss: 6.2285 - categorical_accuracy: 0.3901 - precision: 0.0000e+00 - recall: 0.0000e+00 - auc: 0.5712 - val_loss: 4.9148 - val_categorical_accuracy: 0.4480 - val_precision: 0.0000e+00 - val_recall: 0.0000e+00 - val_auc: 0.6333\n",
      "Epoch 2/30\n",
      "253/253 [==============================] - 106s 420ms/step - loss: 3.9065 - categorical_accuracy: 0.5665 - precision: 0.6952 - recall: 0.2926 - auc: 0.7448 - val_loss: 3.0685 - val_categorical_accuracy: 0.6322 - val_precision: 0.7260 - val_recall: 0.4967 - val_auc: 0.8143\n",
      "Epoch 3/30\n",
      "253/253 [==============================] - 105s 417ms/step - loss: 2.5198 - categorical_accuracy: 0.6869 - precision: 0.7369 - recall: 0.6136 - auc: 0.8498 - val_loss: 2.1092 - val_categorical_accuracy: 0.6831 - val_precision: 0.7060 - val_recall: 0.6439 - val_auc: 0.8498\n",
      "Epoch 4/30\n",
      "253/253 [==============================] - 106s 420ms/step - loss: 1.7547 - categorical_accuracy: 0.7386 - precision: 0.7713 - recall: 0.6981 - auc: 0.8857 - val_loss: 1.6018 - val_categorical_accuracy: 0.6876 - val_precision: 0.7275 - val_recall: 0.6429 - val_auc: 0.8549\n",
      "Epoch 5/30\n",
      "253/253 [==============================] - 106s 420ms/step - loss: 1.3092 - categorical_accuracy: 0.7701 - precision: 0.8039 - recall: 0.7322 - auc: 0.9080 - val_loss: 1.2484 - val_categorical_accuracy: 0.7276 - val_precision: 0.7756 - val_recall: 0.6777 - val_auc: 0.8818\n",
      "Epoch 6/30\n",
      "253/253 [==============================] - 105s 417ms/step - loss: 1.0298 - categorical_accuracy: 0.8009 - precision: 0.8338 - recall: 0.7642 - auc: 0.9254 - val_loss: 1.0506 - val_categorical_accuracy: 0.7489 - val_precision: 0.7879 - val_recall: 0.7075 - val_auc: 0.8945\n",
      "Epoch 7/30\n",
      "253/253 [==============================] - 105s 415ms/step - loss: 0.8420 - categorical_accuracy: 0.8252 - precision: 0.8614 - recall: 0.7874 - auc: 0.9391 - val_loss: 0.9135 - val_categorical_accuracy: 0.7687 - val_precision: 0.8085 - val_recall: 0.7240 - val_auc: 0.9047\n",
      "Epoch 8/30\n",
      "253/253 [==============================] - 106s 421ms/step - loss: 0.7093 - categorical_accuracy: 0.8419 - precision: 0.8807 - recall: 0.8055 - auc: 0.9495 - val_loss: 0.8255 - val_categorical_accuracy: 0.7812 - val_precision: 0.8253 - val_recall: 0.7343 - val_auc: 0.9114\n",
      "Epoch 9/30\n",
      "253/253 [==============================] - 105s 417ms/step - loss: 0.6157 - categorical_accuracy: 0.8555 - precision: 0.8941 - recall: 0.8189 - auc: 0.9564 - val_loss: 0.7595 - val_categorical_accuracy: 0.7922 - val_precision: 0.8397 - val_recall: 0.7375 - val_auc: 0.9156\n",
      "Epoch 10/30\n",
      "253/253 [==============================] - 105s 417ms/step - loss: 0.5479 - categorical_accuracy: 0.8652 - precision: 0.9025 - recall: 0.8320 - auc: 0.9613 - val_loss: 0.7135 - val_categorical_accuracy: 0.7965 - val_precision: 0.8380 - val_recall: 0.7559 - val_auc: 0.9194\n",
      "Epoch 11/30\n",
      "253/253 [==============================] - 106s 418ms/step - loss: 0.4935 - categorical_accuracy: 0.8762 - precision: 0.9087 - recall: 0.8471 - auc: 0.9655 - val_loss: 0.6771 - val_categorical_accuracy: 0.8025 - val_precision: 0.8421 - val_recall: 0.7563 - val_auc: 0.9203\n",
      "Epoch 12/30\n",
      "253/253 [==============================] - 105s 417ms/step - loss: 0.4543 - categorical_accuracy: 0.8839 - precision: 0.9146 - recall: 0.8548 - auc: 0.9686 - val_loss: 0.6642 - val_categorical_accuracy: 0.8068 - val_precision: 0.8389 - val_recall: 0.7758 - val_auc: 0.9213\n",
      "Epoch 13/30\n",
      "253/253 [==============================] - 106s 419ms/step - loss: 0.4189 - categorical_accuracy: 0.8894 - precision: 0.9218 - recall: 0.8609 - auc: 0.9719 - val_loss: 0.6409 - val_categorical_accuracy: 0.8120 - val_precision: 0.8440 - val_recall: 0.7801 - val_auc: 0.9251\n",
      "Epoch 14/30\n",
      "253/253 [==============================] - 106s 419ms/step - loss: 0.3864 - categorical_accuracy: 0.8986 - precision: 0.9269 - recall: 0.8727 - auc: 0.9749 - val_loss: 0.6079 - val_categorical_accuracy: 0.8165 - val_precision: 0.8546 - val_recall: 0.7808 - val_auc: 0.9304\n",
      "Epoch 15/30\n",
      "253/253 [==============================] - 106s 420ms/step - loss: 0.3687 - categorical_accuracy: 0.9019 - precision: 0.9292 - recall: 0.8769 - auc: 0.9759 - val_loss: 0.6094 - val_categorical_accuracy: 0.8136 - val_precision: 0.8457 - val_recall: 0.7820 - val_auc: 0.9266\n",
      "Epoch 16/30\n",
      "253/253 [==============================] - 108s 426ms/step - loss: 0.3492 - categorical_accuracy: 0.9051 - precision: 0.9328 - recall: 0.8811 - auc: 0.9778 - val_loss: 0.6390 - val_categorical_accuracy: 0.8090 - val_precision: 0.8265 - val_recall: 0.7923 - val_auc: 0.9223\n",
      "Epoch 17/30\n",
      "253/253 [==============================] - 106s 420ms/step - loss: 0.3358 - categorical_accuracy: 0.9084 - precision: 0.9366 - recall: 0.8832 - auc: 0.9790 - val_loss: 0.5806 - val_categorical_accuracy: 0.8214 - val_precision: 0.8535 - val_recall: 0.7933 - val_auc: 0.9326\n",
      "Epoch 18/30\n",
      "253/253 [==============================] - 106s 419ms/step - loss: 0.3184 - categorical_accuracy: 0.9120 - precision: 0.9419 - recall: 0.8866 - auc: 0.9813 - val_loss: 0.6062 - val_categorical_accuracy: 0.8137 - val_precision: 0.8455 - val_recall: 0.7862 - val_auc: 0.9266\n",
      "Epoch 19/30\n",
      "253/253 [==============================] - 107s 423ms/step - loss: 0.3116 - categorical_accuracy: 0.9141 - precision: 0.9421 - recall: 0.8901 - auc: 0.9816 - val_loss: 0.5655 - val_categorical_accuracy: 0.8264 - val_precision: 0.8581 - val_recall: 0.7923 - val_auc: 0.9343\n",
      "Epoch 20/30\n",
      "253/253 [==============================] - 107s 424ms/step - loss: 0.2993 - categorical_accuracy: 0.9157 - precision: 0.9442 - recall: 0.8923 - auc: 0.9827 - val_loss: 0.5864 - val_categorical_accuracy: 0.8255 - val_precision: 0.8527 - val_recall: 0.8015 - val_auc: 0.9309\n",
      "Epoch 21/30\n",
      "253/253 [==============================] - 107s 421ms/step - loss: 0.2877 - categorical_accuracy: 0.9201 - precision: 0.9456 - recall: 0.8995 - auc: 0.9838 - val_loss: 0.5902 - val_categorical_accuracy: 0.8177 - val_precision: 0.8496 - val_recall: 0.7925 - val_auc: 0.9274\n",
      "Epoch 22/30\n",
      "253/253 [==============================] - 107s 425ms/step - loss: 0.2858 - categorical_accuracy: 0.9200 - precision: 0.9463 - recall: 0.8971 - auc: 0.9838 - val_loss: 0.5624 - val_categorical_accuracy: 0.8312 - val_precision: 0.8589 - val_recall: 0.8026 - val_auc: 0.9337\n",
      "Epoch 23/30\n",
      "253/253 [==============================] - 107s 423ms/step - loss: 0.2735 - categorical_accuracy: 0.9224 - precision: 0.9493 - recall: 0.9007 - auc: 0.9853 - val_loss: 0.5621 - val_categorical_accuracy: 0.8304 - val_precision: 0.8615 - val_recall: 0.8001 - val_auc: 0.9337\n",
      "Epoch 24/30\n",
      "253/253 [==============================] - 107s 424ms/step - loss: 0.2669 - categorical_accuracy: 0.9240 - precision: 0.9524 - recall: 0.8997 - auc: 0.9858 - val_loss: 0.5576 - val_categorical_accuracy: 0.8306 - val_precision: 0.8638 - val_recall: 0.8001 - val_auc: 0.9358\n",
      "Epoch 25/30\n",
      "253/253 [==============================] - 110s 434ms/step - loss: 0.2644 - categorical_accuracy: 0.9232 - precision: 0.9526 - recall: 0.8999 - auc: 0.9864 - val_loss: 0.5656 - val_categorical_accuracy: 0.8270 - val_precision: 0.8658 - val_recall: 0.7956 - val_auc: 0.9341\n",
      "Epoch 26/30\n",
      "253/253 [==============================] - 107s 424ms/step - loss: 0.2547 - categorical_accuracy: 0.9277 - precision: 0.9556 - recall: 0.9052 - auc: 0.9868 - val_loss: 0.5642 - val_categorical_accuracy: 0.8305 - val_precision: 0.8556 - val_recall: 0.8029 - val_auc: 0.9334\n",
      "Epoch 27/30\n",
      "253/253 [==============================] - 107s 422ms/step - loss: 0.2497 - categorical_accuracy: 0.9291 - precision: 0.9566 - recall: 0.9064 - auc: 0.9874 - val_loss: 0.6135 - val_categorical_accuracy: 0.8223 - val_precision: 0.8369 - val_recall: 0.8079 - val_auc: 0.9260\n",
      "Epoch 28/30\n",
      "253/253 [==============================] - 108s 425ms/step - loss: 0.2466 - categorical_accuracy: 0.9292 - precision: 0.9567 - recall: 0.9059 - auc: 0.9876 - val_loss: 0.5700 - val_categorical_accuracy: 0.8338 - val_precision: 0.8681 - val_recall: 0.7983 - val_auc: 0.9330\n",
      "Epoch 29/30\n",
      "253/253 [==============================] - 107s 425ms/step - loss: 0.2401 - categorical_accuracy: 0.9315 - precision: 0.9596 - recall: 0.9093 - auc: 0.9882 - val_loss: 0.5611 - val_categorical_accuracy: 0.8279 - val_precision: 0.8569 - val_recall: 0.8011 - val_auc: 0.9347\n"
     ]
    },
    {
     "name": "stdout",
     "output_type": "stream",
     "text": [
      "Epoch 1/30\n",
      "253/253 [==============================] - 124s 463ms/step - loss: 6.1938 - categorical_accuracy: 0.3765 - precision: 0.0000e+00 - recall: 0.0000e+00 - auc: 0.5608 - val_loss: 4.8866 - val_categorical_accuracy: 0.3914 - val_precision: 0.0000e+00 - val_recall: 0.0000e+00 - val_auc: 0.6021\n",
      "Epoch 2/30\n",
      "253/253 [==============================] - 118s 468ms/step - loss: 3.9126 - categorical_accuracy: 0.4848 - precision: 0.6979 - recall: 0.1439 - auc: 0.7029 - val_loss: 3.1001 - val_categorical_accuracy: 0.5550 - val_precision: 0.6803 - val_recall: 0.2548 - val_auc: 0.7670\n",
      "Epoch 3/30\n",
      "253/253 [==============================] - 117s 464ms/step - loss: 2.5574 - categorical_accuracy: 0.5911 - precision: 0.7299 - recall: 0.3130 - auc: 0.7988 - val_loss: 2.1556 - val_categorical_accuracy: 0.5973 - val_precision: 0.6584 - val_recall: 0.5034 - val_auc: 0.7998\n",
      "Epoch 4/30\n",
      "253/253 [==============================] - 118s 466ms/step - loss: 1.8124 - categorical_accuracy: 0.6290 - precision: 0.7178 - recall: 0.4716 - auc: 0.8306 - val_loss: 1.6079 - val_categorical_accuracy: 0.6319 - val_precision: 0.6835 - val_recall: 0.5425 - val_auc: 0.8218\n",
      "Epoch 5/30\n",
      "253/253 [==============================] - 118s 466ms/step - loss: 1.3708 - categorical_accuracy: 0.6834 - precision: 0.7119 - recall: 0.6366 - auc: 0.8606 - val_loss: 1.2909 - val_categorical_accuracy: 0.6674 - val_precision: 0.6826 - val_recall: 0.6393 - val_auc: 0.8411\n",
      "Epoch 6/30\n",
      "253/253 [==============================] - 118s 467ms/step - loss: 1.0889 - categorical_accuracy: 0.7379 - precision: 0.7526 - recall: 0.7129 - auc: 0.8886 - val_loss: 1.0958 - val_categorical_accuracy: 0.6949 - val_precision: 0.7174 - val_recall: 0.6690 - val_auc: 0.8569\n",
      "Epoch 7/30\n",
      "253/253 [==============================] - 117s 463ms/step - loss: 0.9105 - categorical_accuracy: 0.7699 - precision: 0.7817 - recall: 0.7500 - auc: 0.9064 - val_loss: 0.9676 - val_categorical_accuracy: 0.7113 - val_precision: 0.7209 - val_recall: 0.6935 - val_auc: 0.8705\n",
      "Epoch 8/30\n",
      "253/253 [==============================] - 118s 465ms/step - loss: 0.7873 - categorical_accuracy: 0.7915 - precision: 0.8034 - recall: 0.7765 - auc: 0.9200 - val_loss: 0.8896 - val_categorical_accuracy: 0.7248 - val_precision: 0.7328 - val_recall: 0.7099 - val_auc: 0.8776\n",
      "Epoch 9/30\n",
      "253/253 [==============================] - 118s 467ms/step - loss: 0.6995 - categorical_accuracy: 0.8116 - precision: 0.8229 - recall: 0.7988 - auc: 0.9301 - val_loss: 0.8441 - val_categorical_accuracy: 0.7341 - val_precision: 0.7416 - val_recall: 0.7246 - val_auc: 0.8841\n",
      "Epoch 10/30\n",
      "253/253 [==============================] - 118s 466ms/step - loss: 0.6401 - categorical_accuracy: 0.8236 - precision: 0.8341 - recall: 0.8105 - auc: 0.9360 - val_loss: 0.7975 - val_categorical_accuracy: 0.7375 - val_precision: 0.7473 - val_recall: 0.7276 - val_auc: 0.8882\n",
      "Epoch 11/30\n",
      "253/253 [==============================] - 118s 467ms/step - loss: 0.5923 - categorical_accuracy: 0.8319 - precision: 0.8447 - recall: 0.8170 - auc: 0.9424 - val_loss: 0.7966 - val_categorical_accuracy: 0.7389 - val_precision: 0.7503 - val_recall: 0.7224 - val_auc: 0.8863\n",
      "Epoch 12/30\n",
      "253/253 [==============================] - 121s 478ms/step - loss: 0.5516 - categorical_accuracy: 0.8430 - precision: 0.8544 - recall: 0.8306 - auc: 0.9481 - val_loss: 0.7509 - val_categorical_accuracy: 0.7499 - val_precision: 0.7579 - val_recall: 0.7380 - val_auc: 0.8955\n",
      "Epoch 13/30\n",
      "253/253 [==============================] - 118s 466ms/step - loss: 0.5214 - categorical_accuracy: 0.8502 - precision: 0.8622 - recall: 0.8367 - auc: 0.9523 - val_loss: 0.7506 - val_categorical_accuracy: 0.7487 - val_precision: 0.7575 - val_recall: 0.7366 - val_auc: 0.8955\n",
      "Epoch 14/30\n",
      "253/253 [==============================] - 118s 465ms/step - loss: 0.4964 - categorical_accuracy: 0.8555 - precision: 0.8689 - recall: 0.8426 - auc: 0.9560 - val_loss: 0.7092 - val_categorical_accuracy: 0.7586 - val_precision: 0.7936 - val_recall: 0.7229 - val_auc: 0.9024\n",
      "Epoch 15/30\n",
      "253/253 [==============================] - 117s 465ms/step - loss: 0.4725 - categorical_accuracy: 0.8615 - precision: 0.8779 - recall: 0.8455 - auc: 0.9596 - val_loss: 0.7067 - val_categorical_accuracy: 0.7614 - val_precision: 0.7705 - val_recall: 0.7502 - val_auc: 0.9045\n",
      "Epoch 16/30\n",
      "253/253 [==============================] - 117s 463ms/step - loss: 0.4539 - categorical_accuracy: 0.8663 - precision: 0.8840 - recall: 0.8505 - auc: 0.9624 - val_loss: 0.7047 - val_categorical_accuracy: 0.7641 - val_precision: 0.7749 - val_recall: 0.7512 - val_auc: 0.9061\n",
      "Epoch 17/30\n",
      "253/253 [==============================] - 118s 468ms/step - loss: 0.4380 - categorical_accuracy: 0.8708 - precision: 0.8903 - recall: 0.8527 - auc: 0.9648 - val_loss: 0.7096 - val_categorical_accuracy: 0.7651 - val_precision: 0.7962 - val_recall: 0.7384 - val_auc: 0.9059\n",
      "Epoch 18/30\n",
      "253/253 [==============================] - 118s 468ms/step - loss: 0.4229 - categorical_accuracy: 0.8760 - precision: 0.8969 - recall: 0.8572 - auc: 0.9669 - val_loss: 0.7037 - val_categorical_accuracy: 0.7630 - val_precision: 0.7713 - val_recall: 0.7547 - val_auc: 0.9051\n",
      "Epoch 19/30\n",
      "253/253 [==============================] - 134s 528ms/step - loss: 0.4077 - categorical_accuracy: 0.8815 - precision: 0.9014 - recall: 0.8627 - auc: 0.9693 - val_loss: 0.6968 - val_categorical_accuracy: 0.7677 - val_precision: 0.7950 - val_recall: 0.7438 - val_auc: 0.9080\n",
      "Epoch 20/30\n",
      "253/253 [==============================] - 132s 522ms/step - loss: 0.3962 - categorical_accuracy: 0.8831 - precision: 0.9048 - recall: 0.8623 - auc: 0.9710 - val_loss: 0.6878 - val_categorical_accuracy: 0.7724 - val_precision: 0.8022 - val_recall: 0.7478 - val_auc: 0.9111\n",
      "Epoch 21/30\n",
      "253/253 [==============================] - 129s 509ms/step - loss: 0.3837 - categorical_accuracy: 0.8893 - precision: 0.9101 - recall: 0.8698 - auc: 0.9726 - val_loss: 0.7221 - val_categorical_accuracy: 0.7667 - val_precision: 0.7758 - val_recall: 0.7579 - val_auc: 0.9074\n",
      "Epoch 22/30\n",
      "253/253 [==============================] - 129s 509ms/step - loss: 0.3754 - categorical_accuracy: 0.8897 - precision: 0.9121 - recall: 0.8711 - auc: 0.9736 - val_loss: 0.6813 - val_categorical_accuracy: 0.7815 - val_precision: 0.7944 - val_recall: 0.7686 - val_auc: 0.9148\n",
      "Epoch 23/30\n",
      "253/253 [==============================] - 125s 494ms/step - loss: 0.3631 - categorical_accuracy: 0.8932 - precision: 0.9178 - recall: 0.8725 - auc: 0.9755 - val_loss: 0.6477 - val_categorical_accuracy: 0.7861 - val_precision: 0.8202 - val_recall: 0.7540 - val_auc: 0.9181\n",
      "Epoch 24/30\n",
      "253/253 [==============================] - 121s 479ms/step - loss: 0.3593 - categorical_accuracy: 0.8939 - precision: 0.9176 - recall: 0.8734 - auc: 0.9757 - val_loss: 0.6849 - val_categorical_accuracy: 0.7808 - val_precision: 0.7929 - val_recall: 0.7663 - val_auc: 0.9143\n",
      "Epoch 25/30\n",
      "253/253 [==============================] - 126s 498ms/step - loss: 0.3458 - categorical_accuracy: 0.8980 - precision: 0.9224 - recall: 0.8776 - auc: 0.9775 - val_loss: 0.6595 - val_categorical_accuracy: 0.7910 - val_precision: 0.8206 - val_recall: 0.7685 - val_auc: 0.9186\n",
      "Epoch 26/30\n",
      "253/253 [==============================] - 123s 485ms/step - loss: 0.3387 - categorical_accuracy: 0.9012 - precision: 0.9257 - recall: 0.8818 - auc: 0.9784 - val_loss: 0.6617 - val_categorical_accuracy: 0.7934 - val_precision: 0.8045 - val_recall: 0.7843 - val_auc: 0.9207\n",
      "Epoch 27/30\n",
      "253/253 [==============================] - 119s 469ms/step - loss: 0.3276 - categorical_accuracy: 0.9047 - precision: 0.9297 - recall: 0.8842 - auc: 0.9801 - val_loss: 0.6521 - val_categorical_accuracy: 0.7948 - val_precision: 0.8211 - val_recall: 0.7708 - val_auc: 0.9212\n",
      "Epoch 28/30\n",
      "253/253 [==============================] - 138s 547ms/step - loss: 0.3187 - categorical_accuracy: 0.9063 - precision: 0.9340 - recall: 0.8848 - auc: 0.9812 - val_loss: 0.6468 - val_categorical_accuracy: 0.7969 - val_precision: 0.8233 - val_recall: 0.7726 - val_auc: 0.9199\n",
      "Epoch 29/30\n",
      "253/253 [==============================] - 123s 488ms/step - loss: 0.3076 - categorical_accuracy: 0.9109 - precision: 0.9369 - recall: 0.8892 - auc: 0.9823 - val_loss: 0.6463 - val_categorical_accuracy: 0.7994 - val_precision: 0.8286 - val_recall: 0.7722 - val_auc: 0.9225\n"
     ]
    },
    {
     "name": "stdout",
     "output_type": "stream",
     "text": [
      "Epoch 30/30\n",
      "253/253 [==============================] - 123s 485ms/step - loss: 0.2959 - categorical_accuracy: 0.9129 - precision: 0.9414 - recall: 0.8909 - auc: 0.9834 - val_loss: 0.6669 - val_categorical_accuracy: 0.7973 - val_precision: 0.8208 - val_recall: 0.7791 - val_auc: 0.9180\n",
      "Epoch 1/30\n",
      "253/253 [==============================] - 135s 508ms/step - loss: 6.2140 - categorical_accuracy: 0.3764 - precision: 0.0000e+00 - recall: 0.0000e+00 - auc: 0.5704 - val_loss: 4.9066 - val_categorical_accuracy: 0.3859 - val_precision: 0.0000e+00 - val_recall: 0.0000e+00 - val_auc: 0.5944\n",
      "Epoch 2/30\n",
      "253/253 [==============================] - 129s 511ms/step - loss: 3.9485 - categorical_accuracy: 0.4721 - precision: 0.6053 - recall: 0.1741 - auc: 0.6858 - val_loss: 3.1202 - val_categorical_accuracy: 0.5367 - val_precision: 0.6128 - val_recall: 0.3776 - val_auc: 0.7529\n",
      "Epoch 3/30\n",
      "253/253 [==============================] - 130s 515ms/step - loss: 2.5651 - categorical_accuracy: 0.5726 - precision: 0.6427 - recall: 0.3956 - auc: 0.7866 - val_loss: 2.1350 - val_categorical_accuracy: 0.5921 - val_precision: 0.6677 - val_recall: 0.3882 - val_auc: 0.7974\n",
      "Epoch 4/30\n",
      "253/253 [==============================] - 129s 509ms/step - loss: 1.7934 - categorical_accuracy: 0.6344 - precision: 0.6843 - recall: 0.4940 - auc: 0.8302 - val_loss: 1.5735 - val_categorical_accuracy: 0.6490 - val_precision: 0.6941 - val_recall: 0.5339 - val_auc: 0.8280\n",
      "Epoch 5/30\n",
      "253/253 [==============================] - 129s 509ms/step - loss: 1.3340 - categorical_accuracy: 0.6997 - precision: 0.7290 - recall: 0.6371 - auc: 0.8666 - val_loss: 1.2393 - val_categorical_accuracy: 0.6842 - val_precision: 0.7232 - val_recall: 0.6205 - val_auc: 0.8529\n",
      "Epoch 6/30\n",
      "253/253 [==============================] - 128s 508ms/step - loss: 1.0530 - categorical_accuracy: 0.7448 - precision: 0.7679 - recall: 0.7040 - auc: 0.8917 - val_loss: 1.0428 - val_categorical_accuracy: 0.7047 - val_precision: 0.7294 - val_recall: 0.6649 - val_auc: 0.8674\n",
      "Epoch 7/30\n",
      "253/253 [==============================] - 136s 537ms/step - loss: 0.8805 - categorical_accuracy: 0.7701 - precision: 0.7931 - recall: 0.7340 - auc: 0.9073 - val_loss: 0.9350 - val_categorical_accuracy: 0.7166 - val_precision: 0.7367 - val_recall: 0.6892 - val_auc: 0.8729\n",
      "Epoch 8/30\n",
      "253/253 [==============================] - 128s 508ms/step - loss: 0.7646 - categorical_accuracy: 0.7915 - precision: 0.8149 - recall: 0.7575 - auc: 0.9186 - val_loss: 0.8573 - val_categorical_accuracy: 0.7297 - val_precision: 0.7556 - val_recall: 0.6923 - val_auc: 0.8797\n",
      "Epoch 9/30\n",
      "253/253 [==============================] - 130s 512ms/step - loss: 0.6835 - categorical_accuracy: 0.8061 - precision: 0.8305 - recall: 0.7729 - auc: 0.9276 - val_loss: 0.7978 - val_categorical_accuracy: 0.7326 - val_precision: 0.7499 - val_recall: 0.7057 - val_auc: 0.8860\n",
      "Epoch 10/30\n",
      "253/253 [==============================] - 129s 510ms/step - loss: 0.6234 - categorical_accuracy: 0.8184 - precision: 0.8440 - recall: 0.7870 - auc: 0.9351 - val_loss: 0.7804 - val_categorical_accuracy: 0.7434 - val_precision: 0.7720 - val_recall: 0.7018 - val_auc: 0.8862\n",
      "Epoch 11/30\n",
      "253/253 [==============================] - 134s 530ms/step - loss: 0.5820 - categorical_accuracy: 0.8261 - precision: 0.8542 - recall: 0.7889 - auc: 0.9403 - val_loss: 0.7711 - val_categorical_accuracy: 0.7445 - val_precision: 0.7642 - val_recall: 0.7136 - val_auc: 0.8861\n",
      "Epoch 12/30\n",
      "253/253 [==============================] - 131s 518ms/step - loss: 0.5426 - categorical_accuracy: 0.8379 - precision: 0.8660 - recall: 0.8025 - auc: 0.9464 - val_loss: 0.7092 - val_categorical_accuracy: 0.7560 - val_precision: 0.7960 - val_recall: 0.7062 - val_auc: 0.8973\n",
      "Epoch 13/30\n",
      "253/253 [==============================] - 130s 516ms/step - loss: 0.5163 - categorical_accuracy: 0.8455 - precision: 0.8751 - recall: 0.8096 - auc: 0.9500 - val_loss: 0.7063 - val_categorical_accuracy: 0.7574 - val_precision: 0.7916 - val_recall: 0.7187 - val_auc: 0.8981\n",
      "Epoch 14/30\n",
      "253/253 [==============================] - 130s 516ms/step - loss: 0.4931 - categorical_accuracy: 0.8511 - precision: 0.8801 - recall: 0.8179 - auc: 0.9537 - val_loss: 0.7010 - val_categorical_accuracy: 0.7603 - val_precision: 0.7969 - val_recall: 0.7163 - val_auc: 0.8995\n",
      "Epoch 15/30\n",
      "253/253 [==============================] - 135s 535ms/step - loss: 0.4774 - categorical_accuracy: 0.8541 - precision: 0.8851 - recall: 0.8189 - auc: 0.9561 - val_loss: 0.6908 - val_categorical_accuracy: 0.7632 - val_precision: 0.7971 - val_recall: 0.7248 - val_auc: 0.9015\n",
      "Epoch 16/30\n",
      "253/253 [==============================] - 135s 536ms/step - loss: 0.4602 - categorical_accuracy: 0.8592 - precision: 0.8899 - recall: 0.8257 - auc: 0.9590 - val_loss: 0.6770 - val_categorical_accuracy: 0.7650 - val_precision: 0.8112 - val_recall: 0.7088 - val_auc: 0.9016\n",
      "Epoch 17/30\n",
      "253/253 [==============================] - 136s 540ms/step - loss: 0.4484 - categorical_accuracy: 0.8617 - precision: 0.8956 - recall: 0.8267 - auc: 0.9606 - val_loss: 0.6719 - val_categorical_accuracy: 0.7689 - val_precision: 0.8090 - val_recall: 0.7214 - val_auc: 0.9050\n",
      "Epoch 18/30\n",
      "253/253 [==============================] - 139s 552ms/step - loss: 0.4370 - categorical_accuracy: 0.8664 - precision: 0.9001 - recall: 0.8298 - auc: 0.9624 - val_loss: 0.6878 - val_categorical_accuracy: 0.7662 - val_precision: 0.7907 - val_recall: 0.7332 - val_auc: 0.9027\n",
      "Epoch 19/30\n",
      "253/253 [==============================] - 137s 540ms/step - loss: 0.4238 - categorical_accuracy: 0.8702 - precision: 0.9056 - recall: 0.8336 - auc: 0.9643 - val_loss: 0.6921 - val_categorical_accuracy: 0.7692 - val_precision: 0.8010 - val_recall: 0.7405 - val_auc: 0.9052\n",
      "Epoch 20/30\n",
      "253/253 [==============================] - 139s 549ms/step - loss: 0.4112 - categorical_accuracy: 0.8721 - precision: 0.9095 - recall: 0.8369 - auc: 0.9668 - val_loss: 0.6851 - val_categorical_accuracy: 0.7694 - val_precision: 0.8121 - val_recall: 0.7210 - val_auc: 0.9035\n",
      "Epoch 21/30\n",
      "253/253 [==============================] - 139s 551ms/step - loss: 0.4055 - categorical_accuracy: 0.8748 - precision: 0.9099 - recall: 0.8398 - auc: 0.9675 - val_loss: 0.6822 - val_categorical_accuracy: 0.7699 - val_precision: 0.8174 - val_recall: 0.7110 - val_auc: 0.9032\n",
      "Epoch 22/30\n",
      "253/253 [==============================] - 134s 532ms/step - loss: 0.3959 - categorical_accuracy: 0.8763 - precision: 0.9130 - recall: 0.8425 - auc: 0.9689 - val_loss: 0.6802 - val_categorical_accuracy: 0.7711 - val_precision: 0.8182 - val_recall: 0.7131 - val_auc: 0.9006\n",
      "Epoch 1/30\n",
      "253/253 [==============================] - 150s 567ms/step - loss: 3.2092 - categorical_accuracy: 0.5132 - precision: 0.6909 - recall: 0.2546 - auc: 0.7120 - val_loss: 1.2724 - val_categorical_accuracy: 0.6488 - val_precision: 0.7116 - val_recall: 0.5484 - val_auc: 0.8266\n",
      "Epoch 2/30\n",
      "253/253 [==============================] - 149s 588ms/step - loss: 0.8957 - categorical_accuracy: 0.7343 - precision: 0.7867 - recall: 0.6735 - auc: 0.8876 - val_loss: 0.7252 - val_categorical_accuracy: 0.7625 - val_precision: 0.8201 - val_recall: 0.6919 - val_auc: 0.9039\n",
      "Epoch 3/30\n",
      "253/253 [==============================] - 146s 579ms/step - loss: 0.5417 - categorical_accuracy: 0.8331 - precision: 0.8721 - recall: 0.7972 - auc: 0.9478 - val_loss: 0.6271 - val_categorical_accuracy: 0.7854 - val_precision: 0.8153 - val_recall: 0.7553 - val_auc: 0.9193\n",
      "Epoch 4/30\n",
      "253/253 [==============================] - 156s 616ms/step - loss: 0.4210 - categorical_accuracy: 0.8741 - precision: 0.9024 - recall: 0.8500 - auc: 0.9666 - val_loss: 0.5846 - val_categorical_accuracy: 0.7995 - val_precision: 0.8323 - val_recall: 0.7657 - val_auc: 0.9285\n",
      "Epoch 5/30\n",
      "253/253 [==============================] - 157s 621ms/step - loss: 0.3573 - categorical_accuracy: 0.8941 - precision: 0.9253 - recall: 0.8685 - auc: 0.9759 - val_loss: 0.5487 - val_categorical_accuracy: 0.8178 - val_precision: 0.8587 - val_recall: 0.7814 - val_auc: 0.9354\n",
      "Epoch 6/30\n",
      "253/253 [==============================] - 142s 563ms/step - loss: 0.3077 - categorical_accuracy: 0.9093 - precision: 0.9375 - recall: 0.8879 - auc: 0.9815 - val_loss: 0.5504 - val_categorical_accuracy: 0.8201 - val_precision: 0.8565 - val_recall: 0.7900 - val_auc: 0.9383\n"
     ]
    },
    {
     "name": "stdout",
     "output_type": "stream",
     "text": [
      "Epoch 7/30\n",
      "253/253 [==============================] - 140s 554ms/step - loss: 0.2790 - categorical_accuracy: 0.9182 - precision: 0.9464 - recall: 0.8959 - auc: 0.9848 - val_loss: 0.5598 - val_categorical_accuracy: 0.8288 - val_precision: 0.8662 - val_recall: 0.8001 - val_auc: 0.9343\n",
      "Epoch 8/30\n",
      "253/253 [==============================] - 139s 551ms/step - loss: 0.2580 - categorical_accuracy: 0.9237 - precision: 0.9515 - recall: 0.9038 - auc: 0.9870 - val_loss: 0.5354 - val_categorical_accuracy: 0.8343 - val_precision: 0.8656 - val_recall: 0.8109 - val_auc: 0.9442\n",
      "Epoch 9/30\n",
      "253/253 [==============================] - 138s 547ms/step - loss: 0.2425 - categorical_accuracy: 0.9281 - precision: 0.9533 - recall: 0.9093 - auc: 0.9886 - val_loss: 0.5235 - val_categorical_accuracy: 0.8359 - val_precision: 0.8754 - val_recall: 0.8028 - val_auc: 0.9460\n",
      "Epoch 10/30\n",
      "253/253 [==============================] - 138s 546ms/step - loss: 0.2244 - categorical_accuracy: 0.9344 - precision: 0.9580 - recall: 0.9151 - auc: 0.9901 - val_loss: 0.5363 - val_categorical_accuracy: 0.8403 - val_precision: 0.8641 - val_recall: 0.8191 - val_auc: 0.9450\n",
      "Epoch 11/30\n",
      "253/253 [==============================] - 138s 545ms/step - loss: 0.2178 - categorical_accuracy: 0.9343 - precision: 0.9591 - recall: 0.9173 - auc: 0.9904 - val_loss: 0.5525 - val_categorical_accuracy: 0.8436 - val_precision: 0.8679 - val_recall: 0.8210 - val_auc: 0.9444\n",
      "Epoch 12/30\n",
      "253/253 [==============================] - 137s 544ms/step - loss: 0.2025 - categorical_accuracy: 0.9393 - precision: 0.9639 - recall: 0.9230 - auc: 0.9918 - val_loss: 0.5261 - val_categorical_accuracy: 0.8429 - val_precision: 0.8692 - val_recall: 0.8221 - val_auc: 0.9463\n",
      "Epoch 13/30\n",
      "253/253 [==============================] - 138s 547ms/step - loss: 0.1956 - categorical_accuracy: 0.9402 - precision: 0.9642 - recall: 0.9238 - auc: 0.9924 - val_loss: 0.4957 - val_categorical_accuracy: 0.8438 - val_precision: 0.8789 - val_recall: 0.8117 - val_auc: 0.9475\n",
      "Epoch 14/30\n",
      "253/253 [==============================] - 139s 549ms/step - loss: 0.1926 - categorical_accuracy: 0.9416 - precision: 0.9648 - recall: 0.9256 - auc: 0.9921 - val_loss: 0.5584 - val_categorical_accuracy: 0.8407 - val_precision: 0.8664 - val_recall: 0.8201 - val_auc: 0.9432\n",
      "Epoch 15/30\n",
      "253/253 [==============================] - 139s 550ms/step - loss: 0.1852 - categorical_accuracy: 0.9432 - precision: 0.9673 - recall: 0.9267 - auc: 0.9930 - val_loss: 0.5115 - val_categorical_accuracy: 0.8464 - val_precision: 0.8760 - val_recall: 0.8198 - val_auc: 0.9464\n",
      "Epoch 16/30\n",
      "253/253 [==============================] - 139s 548ms/step - loss: 0.1859 - categorical_accuracy: 0.9415 - precision: 0.9655 - recall: 0.9276 - auc: 0.9931 - val_loss: 0.4883 - val_categorical_accuracy: 0.8453 - val_precision: 0.8817 - val_recall: 0.8135 - val_auc: 0.9486\n",
      "Epoch 17/30\n",
      "253/253 [==============================] - 139s 550ms/step - loss: 0.1758 - categorical_accuracy: 0.9448 - precision: 0.9681 - recall: 0.9282 - auc: 0.9938 - val_loss: 0.5195 - val_categorical_accuracy: 0.8462 - val_precision: 0.8733 - val_recall: 0.8241 - val_auc: 0.9488\n",
      "Epoch 18/30\n",
      "253/253 [==============================] - 140s 553ms/step - loss: 0.1681 - categorical_accuracy: 0.9466 - precision: 0.9689 - recall: 0.9322 - auc: 0.9942 - val_loss: 0.5350 - val_categorical_accuracy: 0.8462 - val_precision: 0.8736 - val_recall: 0.8231 - val_auc: 0.9471\n",
      "Epoch 19/30\n",
      "253/253 [==============================] - 139s 548ms/step - loss: 0.1643 - categorical_accuracy: 0.9480 - precision: 0.9705 - recall: 0.9331 - auc: 0.9944 - val_loss: 0.5434 - val_categorical_accuracy: 0.8446 - val_precision: 0.8744 - val_recall: 0.8221 - val_auc: 0.9449\n",
      "Epoch 20/30\n",
      "253/253 [==============================] - 146s 578ms/step - loss: 0.1591 - categorical_accuracy: 0.9487 - precision: 0.9705 - recall: 0.9339 - auc: 0.9947 - val_loss: 0.5004 - val_categorical_accuracy: 0.8442 - val_precision: 0.8774 - val_recall: 0.8167 - val_auc: 0.9492\n",
      "Epoch 21/30\n",
      "253/253 [==============================] - 140s 555ms/step - loss: 0.1584 - categorical_accuracy: 0.9493 - precision: 0.9707 - recall: 0.9346 - auc: 0.9949 - val_loss: 0.5206 - val_categorical_accuracy: 0.8417 - val_precision: 0.8750 - val_recall: 0.8165 - val_auc: 0.9449\n",
      "Epoch 1/30\n",
      "253/253 [==============================] - 170s 629ms/step - loss: 3.2024 - categorical_accuracy: 0.4930 - precision: 0.7166 - recall: 0.1553 - auc: 0.7059 - val_loss: 1.2928 - val_categorical_accuracy: 0.5891 - val_precision: 0.8152 - val_recall: 0.2661 - val_auc: 0.8030\n",
      "Epoch 2/30\n",
      "253/253 [==============================] - 156s 619ms/step - loss: 0.9669 - categorical_accuracy: 0.6144 - precision: 0.7625 - recall: 0.3676 - auc: 0.8305 - val_loss: 0.8435 - val_categorical_accuracy: 0.6117 - val_precision: 0.7813 - val_recall: 0.3172 - val_auc: 0.8264\n",
      "Epoch 3/30\n",
      "253/253 [==============================] - 157s 619ms/step - loss: 0.7376 - categorical_accuracy: 0.6340 - precision: 0.7595 - recall: 0.4258 - auc: 0.8552 - val_loss: 0.7988 - val_categorical_accuracy: 0.6126 - val_precision: 0.6887 - val_recall: 0.4806 - val_auc: 0.8268\n",
      "Epoch 4/30\n",
      "253/253 [==============================] - 157s 620ms/step - loss: 0.6801 - categorical_accuracy: 0.6539 - precision: 0.7480 - recall: 0.4938 - auc: 0.8703 - val_loss: 0.7617 - val_categorical_accuracy: 0.6360 - val_precision: 0.7450 - val_recall: 0.4731 - val_auc: 0.8465\n",
      "Epoch 5/30\n",
      "253/253 [==============================] - 158s 626ms/step - loss: 0.6466 - categorical_accuracy: 0.7066 - precision: 0.7496 - recall: 0.6381 - auc: 0.8936 - val_loss: 0.7363 - val_categorical_accuracy: 0.6911 - val_precision: 0.7298 - val_recall: 0.6422 - val_auc: 0.8658\n",
      "Epoch 6/30\n",
      "253/253 [==============================] - 158s 624ms/step - loss: 0.5712 - categorical_accuracy: 0.7865 - precision: 0.8138 - recall: 0.7565 - auc: 0.9287 - val_loss: 0.6712 - val_categorical_accuracy: 0.7532 - val_precision: 0.7879 - val_recall: 0.7188 - val_auc: 0.8996\n",
      "Epoch 7/30\n",
      "253/253 [==============================] - 158s 623ms/step - loss: 0.4392 - categorical_accuracy: 0.8523 - precision: 0.8877 - recall: 0.8223 - auc: 0.9616 - val_loss: 0.6273 - val_categorical_accuracy: 0.7778 - val_precision: 0.8136 - val_recall: 0.7466 - val_auc: 0.9181\n",
      "Epoch 8/30\n",
      "253/253 [==============================] - 158s 625ms/step - loss: 0.3649 - categorical_accuracy: 0.8850 - precision: 0.9178 - recall: 0.8567 - auc: 0.9745 - val_loss: 0.5921 - val_categorical_accuracy: 0.8017 - val_precision: 0.8435 - val_recall: 0.7611 - val_auc: 0.9256\n",
      "Epoch 9/30\n",
      "253/253 [==============================] - 159s 628ms/step - loss: 0.3182 - categorical_accuracy: 0.9020 - precision: 0.9344 - recall: 0.8746 - auc: 0.9808 - val_loss: 0.5626 - val_categorical_accuracy: 0.8165 - val_precision: 0.8482 - val_recall: 0.7847 - val_auc: 0.9347\n",
      "Epoch 10/30\n",
      "253/253 [==============================] - 158s 625ms/step - loss: 0.2836 - categorical_accuracy: 0.9158 - precision: 0.9430 - recall: 0.8926 - auc: 0.9846 - val_loss: 0.5463 - val_categorical_accuracy: 0.8218 - val_precision: 0.8532 - val_recall: 0.7929 - val_auc: 0.9381\n",
      "Epoch 11/30\n",
      "253/253 [==============================] - 183s 722ms/step - loss: 0.2631 - categorical_accuracy: 0.9226 - precision: 0.9471 - recall: 0.9017 - auc: 0.9867 - val_loss: 0.5317 - val_categorical_accuracy: 0.8298 - val_precision: 0.8445 - val_recall: 0.8123 - val_auc: 0.9395\n",
      "Epoch 12/30\n",
      "253/253 [==============================] - 209s 828ms/step - loss: 0.2452 - categorical_accuracy: 0.9282 - precision: 0.9504 - recall: 0.9109 - auc: 0.9883 - val_loss: 0.5596 - val_categorical_accuracy: 0.8298 - val_precision: 0.8411 - val_recall: 0.8160 - val_auc: 0.9364\n",
      "Epoch 13/30\n",
      "253/253 [==============================] - 195s 771ms/step - loss: 0.2291 - categorical_accuracy: 0.9323 - precision: 0.9544 - recall: 0.9158 - auc: 0.9897 - val_loss: 0.5397 - val_categorical_accuracy: 0.8343 - val_precision: 0.8636 - val_recall: 0.8123 - val_auc: 0.9403\n",
      "Epoch 14/30\n",
      "253/253 [==============================] - 198s 784ms/step - loss: 0.2198 - categorical_accuracy: 0.9342 - precision: 0.9566 - recall: 0.9179 - auc: 0.9905 - val_loss: 0.5529 - val_categorical_accuracy: 0.8274 - val_precision: 0.8552 - val_recall: 0.8037 - val_auc: 0.9372\n"
     ]
    },
    {
     "name": "stdout",
     "output_type": "stream",
     "text": [
      "Epoch 15/30\n",
      "253/253 [==============================] - 180s 712ms/step - loss: 0.2102 - categorical_accuracy: 0.9371 - precision: 0.9591 - recall: 0.9224 - auc: 0.9911 - val_loss: 0.5508 - val_categorical_accuracy: 0.8350 - val_precision: 0.8450 - val_recall: 0.8253 - val_auc: 0.9389\n",
      "Epoch 16/30\n",
      "253/253 [==============================] - 170s 671ms/step - loss: 0.2023 - categorical_accuracy: 0.9407 - precision: 0.9606 - recall: 0.9257 - auc: 0.9918 - val_loss: 0.6238 - val_categorical_accuracy: 0.8278 - val_precision: 0.8380 - val_recall: 0.8199 - val_auc: 0.9293\n",
      "Epoch 1/30\n",
      "253/253 [==============================] - 150s 567ms/step - loss: 3.2109 - categorical_accuracy: 0.4701 - precision: 0.6672 - recall: 0.1566 - auc: 0.6812 - val_loss: 1.2946 - val_categorical_accuracy: 0.5927 - val_precision: 0.6403 - val_recall: 0.5218 - val_auc: 0.7902\n",
      "Epoch 2/30\n",
      "253/253 [==============================] - 143s 564ms/step - loss: 0.9663 - categorical_accuracy: 0.6470 - precision: 0.7252 - recall: 0.5064 - auc: 0.8366 - val_loss: 0.8464 - val_categorical_accuracy: 0.6674 - val_precision: 0.6997 - val_recall: 0.6085 - val_auc: 0.8417\n",
      "Epoch 3/30\n",
      "253/253 [==============================] - 143s 566ms/step - loss: 0.7064 - categorical_accuracy: 0.7323 - precision: 0.7554 - recall: 0.6952 - auc: 0.8908 - val_loss: 0.7631 - val_categorical_accuracy: 0.7137 - val_precision: 0.7287 - val_recall: 0.6922 - val_auc: 0.8656\n",
      "Epoch 4/30\n",
      "253/253 [==============================] - 147s 583ms/step - loss: 0.5927 - categorical_accuracy: 0.8004 - precision: 0.8153 - recall: 0.7805 - auc: 0.9225 - val_loss: 0.6963 - val_categorical_accuracy: 0.7509 - val_precision: 0.7765 - val_recall: 0.7186 - val_auc: 0.8916\n",
      "Epoch 5/30\n",
      "253/253 [==============================] - 135s 535ms/step - loss: 0.5034 - categorical_accuracy: 0.8405 - precision: 0.8670 - recall: 0.8117 - auc: 0.9454 - val_loss: 0.6321 - val_categorical_accuracy: 0.7781 - val_precision: 0.8029 - val_recall: 0.7553 - val_auc: 0.9137\n",
      "Epoch 6/30\n",
      "253/253 [==============================] - 143s 568ms/step - loss: 0.4184 - categorical_accuracy: 0.8715 - precision: 0.9000 - recall: 0.8454 - auc: 0.9632 - val_loss: 0.6029 - val_categorical_accuracy: 0.8014 - val_precision: 0.8377 - val_recall: 0.7634 - val_auc: 0.9236\n",
      "Epoch 7/30\n",
      "253/253 [==============================] - 144s 569ms/step - loss: 0.3994 - categorical_accuracy: 0.8796 - precision: 0.9060 - recall: 0.8578 - auc: 0.9669 - val_loss: 0.5801 - val_categorical_accuracy: 0.7983 - val_precision: 0.8495 - val_recall: 0.7635 - val_auc: 0.9274\n",
      "Epoch 8/30\n",
      "253/253 [==============================] - 143s 568ms/step - loss: 0.3372 - categorical_accuracy: 0.9009 - precision: 0.9298 - recall: 0.8789 - auc: 0.9769 - val_loss: 0.5630 - val_categorical_accuracy: 0.8028 - val_precision: 0.8560 - val_recall: 0.7668 - val_auc: 0.9314\n",
      "Epoch 9/30\n",
      "253/253 [==============================] - 142s 564ms/step - loss: 0.3086 - categorical_accuracy: 0.9107 - precision: 0.9363 - recall: 0.8888 - auc: 0.9802 - val_loss: 0.5870 - val_categorical_accuracy: 0.8244 - val_precision: 0.8470 - val_recall: 0.8023 - val_auc: 0.9342\n",
      "Epoch 10/30\n",
      "253/253 [==============================] - 143s 567ms/step - loss: 0.2743 - categorical_accuracy: 0.9192 - precision: 0.9462 - recall: 0.8973 - auc: 0.9843 - val_loss: 0.5423 - val_categorical_accuracy: 0.8280 - val_precision: 0.8492 - val_recall: 0.8038 - val_auc: 0.9381\n",
      "Epoch 11/30\n",
      "253/253 [==============================] - 143s 565ms/step - loss: 0.2579 - categorical_accuracy: 0.9253 - precision: 0.9524 - recall: 0.9036 - auc: 0.9860 - val_loss: 0.5503 - val_categorical_accuracy: 0.8319 - val_precision: 0.8463 - val_recall: 0.8172 - val_auc: 0.9405\n",
      "Epoch 12/30\n",
      "253/253 [==============================] - 143s 566ms/step - loss: 0.2436 - categorical_accuracy: 0.9282 - precision: 0.9540 - recall: 0.9113 - auc: 0.9876 - val_loss: 0.5346 - val_categorical_accuracy: 0.8374 - val_precision: 0.8693 - val_recall: 0.8050 - val_auc: 0.9403\n",
      "Epoch 13/30\n",
      "253/253 [==============================] - 143s 566ms/step - loss: 0.2349 - categorical_accuracy: 0.9313 - precision: 0.9557 - recall: 0.9126 - auc: 0.9882 - val_loss: 0.5152 - val_categorical_accuracy: 0.8373 - val_precision: 0.8750 - val_recall: 0.8037 - val_auc: 0.9433\n",
      "Epoch 14/30\n",
      "253/253 [==============================] - 142s 563ms/step - loss: 0.2250 - categorical_accuracy: 0.9339 - precision: 0.9574 - recall: 0.9167 - auc: 0.9895 - val_loss: 0.5557 - val_categorical_accuracy: 0.8377 - val_precision: 0.8633 - val_recall: 0.8141 - val_auc: 0.9382\n",
      "Epoch 15/30\n",
      "253/253 [==============================] - 143s 566ms/step - loss: 0.2115 - categorical_accuracy: 0.9366 - precision: 0.9604 - recall: 0.9189 - auc: 0.9906 - val_loss: 0.5512 - val_categorical_accuracy: 0.8331 - val_precision: 0.8471 - val_recall: 0.8167 - val_auc: 0.9371\n",
      "Epoch 16/30\n",
      "253/253 [==============================] - 142s 564ms/step - loss: 0.2098 - categorical_accuracy: 0.9371 - precision: 0.9613 - recall: 0.9198 - auc: 0.9906 - val_loss: 0.5332 - val_categorical_accuracy: 0.8401 - val_precision: 0.8695 - val_recall: 0.8154 - val_auc: 0.9432\n",
      "Epoch 17/30\n",
      "253/253 [==============================] - 143s 567ms/step - loss: 0.1976 - categorical_accuracy: 0.9421 - precision: 0.9634 - recall: 0.9265 - auc: 0.9919 - val_loss: 0.5399 - val_categorical_accuracy: 0.8404 - val_precision: 0.8682 - val_recall: 0.8193 - val_auc: 0.9417\n",
      "Epoch 18/30\n",
      "253/253 [==============================] - 144s 569ms/step - loss: 0.1914 - categorical_accuracy: 0.9435 - precision: 0.9662 - recall: 0.9279 - auc: 0.9921 - val_loss: 0.5277 - val_categorical_accuracy: 0.8431 - val_precision: 0.8741 - val_recall: 0.8178 - val_auc: 0.9446\n"
     ]
    }
   ],
   "source": [
    "stats = grid_search_cv(model_RNN_LSTM,X_train, y_train,\n",
    "                       class_weight=class_weights,\n",
    "                       search_space=params, cv=3, epochs=30, \n",
    "                       callbacks=[checkpoint,early_stop], seed=42)"
   ]
  },
  {
   "cell_type": "markdown",
   "id": "ed8d8b57",
   "metadata": {},
   "source": [
    "Output stats is a dictionary containing the evaluation metrics for all combinations of hyperparameters tried during the grid search. It can be used to compare the performance of different hyperparameter combinations and select the best set of hyperparameters for the neural network model."
   ]
  },
  {
   "cell_type": "code",
   "execution_count": 55,
   "id": "bdd52583",
   "metadata": {},
   "outputs": [
    {
     "data": {
      "text/plain": [
       "{\"{'learning_rate': 0.0001}\": array([0.79920675, 0.8320291 , 0.76480474, 0.91807095]),\n",
       " \"{'learning_rate': 0.0005}\": array([0.83650084, 0.8608285 , 0.81884537, 0.93997282])}"
      ]
     },
     "execution_count": 55,
     "metadata": {},
     "output_type": "execute_result"
    }
   ],
   "source": [
    "stats"
   ]
  },
  {
   "cell_type": "code",
   "execution_count": 56,
   "id": "340d00ce",
   "metadata": {},
   "outputs": [],
   "source": [
    "import json"
   ]
  },
  {
   "cell_type": "code",
   "execution_count": 61,
   "id": "ed1156c0",
   "metadata": {},
   "outputs": [],
   "source": [
    "def dict_to_dataframe(stats):\n",
    "    entries = []\n",
    "    for key, value in stats.items():\n",
    "        params_dict = json.loads(key.replace(\"'\", \"\\\"\"))\n",
    "        entry = params_dict.copy()\n",
    "        for i, metric_name in enumerate(['accuracy', 'precision', 'recall', 'auc']):\n",
    "            entry[metric_name] = value[i]\n",
    "        entries.append(entry)\n",
    "\n",
    "    df = pd.DataFrame(entries)\n",
    "    columns_order = ['auc','learning_rate', 'accuracy', 'precision', 'recall']\n",
    "    df = df[columns_order]\n",
    "    return df"
   ]
  },
  {
   "cell_type": "code",
   "execution_count": 62,
   "id": "8f54fbf1",
   "metadata": {},
   "outputs": [
    {
     "data": {
      "text/html": [
       "<div>\n",
       "<style scoped>\n",
       "    .dataframe tbody tr th:only-of-type {\n",
       "        vertical-align: middle;\n",
       "    }\n",
       "\n",
       "    .dataframe tbody tr th {\n",
       "        vertical-align: top;\n",
       "    }\n",
       "\n",
       "    .dataframe thead th {\n",
       "        text-align: right;\n",
       "    }\n",
       "</style>\n",
       "<table border=\"1\" class=\"dataframe\">\n",
       "  <thead>\n",
       "    <tr style=\"text-align: right;\">\n",
       "      <th></th>\n",
       "      <th>auc</th>\n",
       "      <th>learning_rate</th>\n",
       "      <th>accuracy</th>\n",
       "      <th>precision</th>\n",
       "      <th>recall</th>\n",
       "    </tr>\n",
       "  </thead>\n",
       "  <tbody>\n",
       "    <tr>\n",
       "      <th>1</th>\n",
       "      <td>0.939973</td>\n",
       "      <td>0.0005</td>\n",
       "      <td>0.836501</td>\n",
       "      <td>0.860828</td>\n",
       "      <td>0.818845</td>\n",
       "    </tr>\n",
       "    <tr>\n",
       "      <th>0</th>\n",
       "      <td>0.918071</td>\n",
       "      <td>0.0001</td>\n",
       "      <td>0.799207</td>\n",
       "      <td>0.832029</td>\n",
       "      <td>0.764805</td>\n",
       "    </tr>\n",
       "  </tbody>\n",
       "</table>\n",
       "</div>"
      ],
      "text/plain": [
       "        auc  learning_rate  accuracy  precision    recall\n",
       "1  0.939973         0.0005  0.836501   0.860828  0.818845\n",
       "0  0.918071         0.0001  0.799207   0.832029  0.764805"
      ]
     },
     "execution_count": 62,
     "metadata": {},
     "output_type": "execute_result"
    }
   ],
   "source": [
    "kfold_stats = dict_to_dataframe(stats)\n",
    "\n",
    "kfold_stats.sort_values(by=['auc'], ascending=False).head(10)"
   ]
  },
  {
   "cell_type": "markdown",
   "id": "fd466580",
   "metadata": {},
   "source": [
    "### Best hyperparameters\n",
    "stores the hyperparameters that achieved the best performance during the hyperparameter tuning process"
   ]
  },
  {
   "cell_type": "code",
   "execution_count": 63,
   "id": "08469f09",
   "metadata": {},
   "outputs": [],
   "source": [
    "best_params = {\n",
    "    'learning_rate':0.0005,\n",
    "}"
   ]
  },
  {
   "cell_type": "markdown",
   "id": "7d254a93",
   "metadata": {},
   "source": [
    "# Building the best model using the best hyperparameters"
   ]
  },
  {
   "cell_type": "code",
   "execution_count": 79,
   "id": "e823535f",
   "metadata": {},
   "outputs": [
    {
     "name": "stdout",
     "output_type": "stream",
     "text": [
      "Model: \"sequential_3\"\n",
      "_________________________________________________________________\n",
      " Layer (type)                Output Shape              Param #   \n",
      "=================================================================\n",
      " embedding_3 (Embedding)     (None, 40, 50)            1519900   \n",
      "                                                                 \n",
      " bidirectional (Bidirectiona  (None, 40, 200)          91200     \n",
      " l)                                                              \n",
      "                                                                 \n",
      " lstm_1 (LSTM)               (None, 64)                67840     \n",
      "                                                                 \n",
      " dense_7 (Dense)             (None, 64)                4160      \n",
      "                                                                 \n",
      " dense_8 (Dense)             (None, 32)                2080      \n",
      "                                                                 \n",
      " dense_9 (Dense)             (None, 3)                 99        \n",
      "                                                                 \n",
      "=================================================================\n",
      "Total params: 1,685,279\n",
      "Trainable params: 1,685,279\n",
      "Non-trainable params: 0\n",
      "_________________________________________________________________\n"
     ]
    }
   ],
   "source": [
    "best_model = keras.models.clone_model(model_RNN_LSTM)\n",
    "\n",
    "# Modify the parameters  \n",
    "best_model.compile(optimizer=Adam(learning_rate=best_params['learning_rate']), \n",
    "                   loss=\"categorical_crossentropy\", \n",
    "                   metrics=['acc', 'mae', 'Precision', 'Recall', 'AUC'])\n",
    "best_model.summary()\n"
   ]
  },
  {
   "cell_type": "code",
   "execution_count": 80,
   "id": "cebcdc9b",
   "metadata": {},
   "outputs": [
    {
     "name": "stdout",
     "output_type": "stream",
     "text": [
      "Epoch 1/30\n",
      "379/379 [==============================] - 244s 625ms/step - loss: 2.5667 - acc: 0.5105 - mae: 0.3928 - precision: 0.6504 - recall: 0.2529 - auc: 0.7104 - val_loss: 0.9948 - val_acc: 0.6676 - val_mae: 0.3363 - val_precision: 0.7502 - val_recall: 0.4740 - val_auc: 0.8296\n",
      "Epoch 2/30\n",
      "379/379 [==============================] - 250s 660ms/step - loss: 0.7647 - acc: 0.7419 - mae: 0.2603 - precision: 0.7698 - recall: 0.6950 - auc: 0.8818 - val_loss: 0.7392 - val_acc: 0.7011 - val_mae: 0.2672 - val_precision: 0.8316 - val_recall: 0.6114 - val_auc: 0.8790\n",
      "Epoch 3/30\n",
      "379/379 [==============================] - 277s 731ms/step - loss: 0.5661 - acc: 0.8189 - mae: 0.1888 - precision: 0.8567 - recall: 0.7796 - auc: 0.9340 - val_loss: 0.5671 - val_acc: 0.8129 - val_mae: 0.1848 - val_precision: 0.8377 - val_recall: 0.7838 - val_auc: 0.9330\n",
      "Epoch 4/30\n",
      "379/379 [==============================] - 239s 630ms/step - loss: 0.4197 - acc: 0.8736 - mae: 0.1329 - precision: 0.9015 - recall: 0.8494 - auc: 0.9657 - val_loss: 0.4900 - val_acc: 0.8393 - val_mae: 0.1462 - val_precision: 0.8593 - val_recall: 0.8215 - val_auc: 0.9501\n",
      "Epoch 5/30\n",
      "379/379 [==============================] - 263s 695ms/step - loss: 0.3588 - acc: 0.8926 - mae: 0.1111 - precision: 0.9192 - recall: 0.8705 - auc: 0.9743 - val_loss: 0.4874 - val_acc: 0.8368 - val_mae: 0.1462 - val_precision: 0.8726 - val_recall: 0.8086 - val_auc: 0.9486\n",
      "Epoch 6/30\n",
      "379/379 [==============================] - 241s 636ms/step - loss: 0.3170 - acc: 0.9084 - mae: 0.0965 - precision: 0.9307 - recall: 0.8895 - auc: 0.9789 - val_loss: 0.4749 - val_acc: 0.8485 - val_mae: 0.1262 - val_precision: 0.8732 - val_recall: 0.8294 - val_auc: 0.9529\n",
      "Epoch 7/30\n",
      "379/379 [==============================] - 233s 616ms/step - loss: 0.2818 - acc: 0.9181 - mae: 0.0848 - precision: 0.9389 - recall: 0.9020 - auc: 0.9842 - val_loss: 0.4475 - val_acc: 0.8626 - val_mae: 0.1202 - val_precision: 0.8758 - val_recall: 0.8458 - val_auc: 0.9569\n",
      "Epoch 8/30\n",
      "379/379 [==============================] - 256s 677ms/step - loss: 0.2550 - acc: 0.9251 - mae: 0.0764 - precision: 0.9469 - recall: 0.9102 - auc: 0.9872 - val_loss: 0.4714 - val_acc: 0.8412 - val_mae: 0.1334 - val_precision: 0.8694 - val_recall: 0.8176 - val_auc: 0.9529\n",
      "Epoch 9/30\n",
      "379/379 [==============================] - 257s 678ms/step - loss: 0.2644 - acc: 0.9236 - mae: 0.0783 - precision: 0.9445 - recall: 0.9079 - auc: 0.9868 - val_loss: 0.4212 - val_acc: 0.8661 - val_mae: 0.1123 - val_precision: 0.8937 - val_recall: 0.8478 - val_auc: 0.9621\n",
      "Epoch 10/30\n",
      "379/379 [==============================] - 253s 667ms/step - loss: 0.2243 - acc: 0.9339 - mae: 0.0670 - precision: 0.9544 - recall: 0.9194 - auc: 0.9900 - val_loss: 0.4069 - val_acc: 0.8742 - val_mae: 0.1035 - val_precision: 0.8994 - val_recall: 0.8568 - val_auc: 0.9643\n",
      "Epoch 11/30\n",
      "379/379 [==============================] - 243s 641ms/step - loss: 0.2076 - acc: 0.9389 - mae: 0.0618 - precision: 0.9581 - recall: 0.9249 - auc: 0.9912 - val_loss: 0.4011 - val_acc: 0.8733 - val_mae: 0.1041 - val_precision: 0.9008 - val_recall: 0.8539 - val_auc: 0.9657\n",
      "Epoch 12/30\n",
      "379/379 [==============================] - 256s 676ms/step - loss: 0.1989 - acc: 0.9396 - mae: 0.0594 - precision: 0.9593 - recall: 0.9271 - auc: 0.9921 - val_loss: 0.4156 - val_acc: 0.8774 - val_mae: 0.0970 - val_precision: 0.8998 - val_recall: 0.8607 - val_auc: 0.9647\n",
      "Epoch 13/30\n",
      "379/379 [==============================] - 281s 741ms/step - loss: 0.1892 - acc: 0.9427 - mae: 0.0566 - precision: 0.9624 - recall: 0.9294 - auc: 0.9927 - val_loss: 0.4022 - val_acc: 0.8767 - val_mae: 0.0974 - val_precision: 0.9039 - val_recall: 0.8571 - val_auc: 0.9661\n",
      "Epoch 14/30\n",
      "379/379 [==============================] - 245s 646ms/step - loss: 0.1837 - acc: 0.9443 - mae: 0.0549 - precision: 0.9627 - recall: 0.9313 - auc: 0.9931 - val_loss: 0.4070 - val_acc: 0.8772 - val_mae: 0.0979 - val_precision: 0.9042 - val_recall: 0.8573 - val_auc: 0.9655\n",
      "Epoch 15/30\n",
      "379/379 [==============================] - 248s 654ms/step - loss: 0.1770 - acc: 0.9453 - mae: 0.0530 - precision: 0.9660 - recall: 0.9321 - auc: 0.9935 - val_loss: 0.3922 - val_acc: 0.8782 - val_mae: 0.0992 - val_precision: 0.9024 - val_recall: 0.8599 - val_auc: 0.9669\n",
      "Epoch 16/30\n",
      "379/379 [==============================] - 250s 660ms/step - loss: 0.1684 - acc: 0.9491 - mae: 0.0503 - precision: 0.9674 - recall: 0.9362 - auc: 0.9942 - val_loss: 0.4112 - val_acc: 0.8779 - val_mae: 0.0939 - val_precision: 0.9021 - val_recall: 0.8626 - val_auc: 0.9646\n",
      "Epoch 17/30\n",
      "379/379 [==============================] - 242s 637ms/step - loss: 0.1659 - acc: 0.9481 - mae: 0.0497 - precision: 0.9666 - recall: 0.9356 - auc: 0.9943 - val_loss: 0.4067 - val_acc: 0.8823 - val_mae: 0.0939 - val_precision: 0.8940 - val_recall: 0.8714 - val_auc: 0.9652\n",
      "Epoch 18/30\n",
      "379/379 [==============================] - 239s 631ms/step - loss: 0.1622 - acc: 0.9493 - mae: 0.0487 - precision: 0.9681 - recall: 0.9366 - auc: 0.9946 - val_loss: 0.4062 - val_acc: 0.8795 - val_mae: 0.0969 - val_precision: 0.8894 - val_recall: 0.8706 - val_auc: 0.9644\n",
      "Epoch 19/30\n",
      "379/379 [==============================] - 238s 628ms/step - loss: 0.1573 - acc: 0.9508 - mae: 0.0471 - precision: 0.9688 - recall: 0.9396 - auc: 0.9949 - val_loss: 0.3994 - val_acc: 0.8762 - val_mae: 0.0958 - val_precision: 0.9010 - val_recall: 0.8614 - val_auc: 0.9665\n",
      "Epoch 20/30\n",
      "379/379 [==============================] - 244s 644ms/step - loss: 0.1520 - acc: 0.9537 - mae: 0.0459 - precision: 0.9718 - recall: 0.9404 - auc: 0.9952 - val_loss: 0.4263 - val_acc: 0.8808 - val_mae: 0.0892 - val_precision: 0.8859 - val_recall: 0.8753 - val_auc: 0.9639\n"
     ]
    }
   ],
   "source": [
    "best_model_history = best_model.fit(X_train, y_train,\n",
    "                         class_weight=class_weights,\n",
    "                         batch_size=128, epochs=30, \n",
    "                         validation_data=(X_val, y_val),\n",
    "                         callbacks=[checkpoint,early_stop],\n",
    "                         verbose=1)"
   ]
  },
  {
   "cell_type": "code",
   "execution_count": 81,
   "id": "09656e44",
   "metadata": {},
   "outputs": [
    {
     "data": {
      "image/png": "[encoded data removed]",
      "text/plain": [
       "<Figure size 432x288 with 1 Axes>"
      ]
     },
     "metadata": {
      "needs_background": "light"
     },
     "output_type": "display_data"
    }
   ],
   "source": [
    "plot_validation_mae(best_model_history)"
   ]
  },
  {
   "cell_type": "code",
   "execution_count": 82,
   "id": "b765a2e1",
   "metadata": {},
   "outputs": [
    {
     "data": {
      "image/png": "[encoded data removed]",
      "text/plain": [
       "<Figure size 432x288 with 1 Axes>"
      ]
     },
     "metadata": {
      "needs_background": "light"
     },
     "output_type": "display_data"
    }
   ],
   "source": [
    "smooth_mae_history = smooth_curve(best_model_history.history['val_mae'][10:])\n",
    "plt.plot(range(1, len(smooth_mae_history) + 1), smooth_mae_history)\n",
    "plt.xlabel('Epochs')\n",
    "plt.ylabel('Validation MAE')\n",
    "plt.show()"
   ]
  },
  {
   "cell_type": "code",
   "execution_count": 83,
   "id": "6f0a3725",
   "metadata": {},
   "outputs": [
    {
     "data": {
      "image/png": "[encoded data removed]",
      "text/plain": [
       "<Figure size 432x288 with 2 Axes>"
      ]
     },
     "metadata": {
      "needs_background": "light"
     },
     "output_type": "display_data"
    }
   ],
   "source": [
    "plot_history(best_model_history)"
   ]
  },
  {
   "cell_type": "code",
   "execution_count": 87,
   "id": "427cecc2",
   "metadata": {},
   "outputs": [],
   "source": [
    "# Define a function to evaluate the model's performance on validation and testing data\n",
    "def final_evaluate_model(model, X_val, y_val, X_test, y_test):\n",
    "# Evaluate the model on validation data and print the loss and accuracy\n",
    "    val_loss, val_acc, val_mae,val_precision,val_recall,val_auc  = model.evaluate(X_val, y_val, batch_size=32)\n",
    "    print('Validation Loss:', val_loss)\n",
    "    print('Validation Accuracy:', val_acc, '\\n')\n",
    "# Evaluate the model on validation data and print the loss and accuracy\n",
    "    test_loss, test_acc, test_mae,test_precision,test_recall,test_auc = model.evaluate(X_test, y_test, batch_size=32)\n",
    "    print('Test Loss:', test_loss)\n",
    "    print('Test Accuracy:', test_acc, '\\n')\n",
    "    # Generate predictions on testing data and print the classification report and confusion matrix\n",
    "    y_pred = model.predict(X_test)\n",
    "    y_pred_labels = np.argmax(y_pred, axis=1)\n",
    "    y_test_labels = np.argmax(y_test, axis=1)\n",
    "\n",
    "    report = classification_report(y_test_labels, y_pred_labels)\n",
    "    print(report)\n",
    "    \n",
    " # Generate a confusion matrix plot to visualize the model's performance\n",
    "    cm = confusion_matrix(y_test_labels, y_pred_labels)\n",
    "    sns.heatmap(cm, annot=True, fmt='d', cmap='Blues')\n",
    "    plt.title('Confusion Matrix')\n",
    "    plt.xlabel('Predicted Labels')\n",
    "    plt.ylabel('True Labels')\n",
    "    plt.show()"
   ]
  },
  {
   "cell_type": "code",
   "execution_count": 88,
   "id": "958b07d3",
   "metadata": {},
   "outputs": [
    {
     "name": "stdout",
     "output_type": "stream",
     "text": [
      "379/379 [==============================] - 54s 143ms/step - loss: 0.4424 - acc: 0.8782 - mae: 0.0895 - precision: 0.9023 - recall: 0.8647 - auc: 0.9618\n",
      "Validation Loss: 0.4423670768737793\n",
      "Validation Accuracy: 0.878201961517334 \n",
      "\n",
      "20/20 [==============================] - 3s 142ms/step - loss: 0.4022 - acc: 0.8824 - mae: 0.0861 - precision: 0.9078 - recall: 0.8693 - auc: 0.9661\n",
      "Test Loss: 0.4021594524383545\n",
      "Test Accuracy: 0.8823529481887817 \n",
      "\n",
      "20/20 [==============================] - 4s 139ms/step\n",
      "              precision    recall  f1-score   support\n",
      "\n",
      "           0       0.92      0.86      0.89       220\n",
      "           1       0.90      0.87      0.89       193\n",
      "           2       0.83      0.91      0.87       199\n",
      "\n",
      "    accuracy                           0.88       612\n",
      "   macro avg       0.88      0.88      0.88       612\n",
      "weighted avg       0.89      0.88      0.88       612\n",
      "\n"
     ]
    },
    {
     "data": {
      "image/png": "[encoded data removed]",
      "text/plain": [
       "<Figure size 432x288 with 2 Axes>"
      ]
     },
     "metadata": {
      "needs_background": "light"
     },
     "output_type": "display_data"
    }
   ],
   "source": [
    "final_evaluate_model(best_model, X_val, y_val, X_test, y_test)"
   ]
  },
  {
   "cell_type": "code",
   "execution_count": 89,
   "id": "05041eef",
   "metadata": {},
   "outputs": [
    {
     "name": "stdout",
     "output_type": "stream",
     "text": [
      "505/505 [==============================] - 72s 142ms/step - loss: 0.1769 - acc: 0.9438 - mae: 0.0473 - precision: 0.9629 - recall: 0.9323 - auc: 0.9927\n",
      "505/505 [==============================] - 73s 145ms/step - loss: 0.1380 - acc: 0.9548 - mae: 0.0382 - precision: 0.9752 - recall: 0.9426 - auc: 0.9957\n",
      "505/505 [==============================] - 71s 140ms/step - loss: 0.1156 - acc: 0.9597 - mae: 0.0357 - precision: 0.9813 - recall: 0.9461 - auc: 0.9970\n",
      "Cross-validation results: [0.9437902569770813, 0.9548215270042419, 0.9597148895263672]\n",
      "Average accuracy: 0.9527755578358968\n",
      "20/20 [==============================] - 3s 141ms/step - loss: 0.3482 - acc: 0.8954 - mae: 0.0784 - precision: 0.9192 - recall: 0.8742 - auc: 0.9712\n",
      "Test set accuracy: 0.8954248428344727\n"
     ]
    }
   ],
   "source": [
    "evaluate_model_with_kfold(X_train, y_train,X_test, y_test, best_model)"
   ]
  },
  {
   "cell_type": "code",
   "execution_count": null,
   "id": "7963178c",
   "metadata": {},
   "outputs": [],
   "source": []
  }
 ],
 "metadata": {
  "kernelspec": {
   "display_name": "Python 3 (ipykernel)",
   "language": "python",
   "name": "python3"
  },
  "language_info": {
   "codemirror_mode": {
    "name": "ipython",
    "version": 3
   },
   "file_extension": ".py",
   "mimetype": "text/x-python",
   "name": "python",
   "nbconvert_exporter": "python",
   "pygments_lexer": "ipython3",
   "version": "3.10.4"
  }
 },
 "nbformat": 4,
 "nbformat_minor": 5
}
